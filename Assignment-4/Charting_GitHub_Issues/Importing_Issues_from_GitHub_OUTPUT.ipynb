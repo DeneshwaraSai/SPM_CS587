{
 "cells": [
  {
   "cell_type": "code",
   "execution_count": 1,
   "metadata": {},
   "outputs": [
    {
     "name": "stdout",
     "output_type": "stream",
     "text": [
      "Requirement already satisfied: github3.py in /Users/denesh/Desktop/IIT-Chicago/Sem-3/SPM/Assignment/Assignment_4-5/.venv/lib/python3.12/site-packages (4.0.1)\n",
      "Requirement already satisfied: pyjwt>=2.3.0 in /Users/denesh/Desktop/IIT-Chicago/Sem-3/SPM/Assignment/Assignment_4-5/.venv/lib/python3.12/site-packages (from pyjwt[crypto]>=2.3.0->github3.py) (2.10.1)\n",
      "Requirement already satisfied: python-dateutil>=2.6.0 in /Users/denesh/Desktop/IIT-Chicago/Sem-3/SPM/Assignment/Assignment_4-5/.venv/lib/python3.12/site-packages (from github3.py) (2.9.0.post0)\n",
      "Requirement already satisfied: requests>=2.18 in /Users/denesh/Desktop/IIT-Chicago/Sem-3/SPM/Assignment/Assignment_4-5/.venv/lib/python3.12/site-packages (from github3.py) (2.32.3)\n",
      "Requirement already satisfied: uritemplate>=3.0.0 in /Users/denesh/Desktop/IIT-Chicago/Sem-3/SPM/Assignment/Assignment_4-5/.venv/lib/python3.12/site-packages (from github3.py) (4.1.1)\n",
      "Requirement already satisfied: cryptography>=3.4.0 in /Users/denesh/Desktop/IIT-Chicago/Sem-3/SPM/Assignment/Assignment_4-5/.venv/lib/python3.12/site-packages (from pyjwt[crypto]>=2.3.0->github3.py) (44.0.2)\n",
      "Requirement already satisfied: six>=1.5 in /Users/denesh/Desktop/IIT-Chicago/Sem-3/SPM/Assignment/Assignment_4-5/.venv/lib/python3.12/site-packages (from python-dateutil>=2.6.0->github3.py) (1.17.0)\n",
      "Requirement already satisfied: charset-normalizer<4,>=2 in /Users/denesh/Desktop/IIT-Chicago/Sem-3/SPM/Assignment/Assignment_4-5/.venv/lib/python3.12/site-packages (from requests>=2.18->github3.py) (3.4.1)\n",
      "Requirement already satisfied: idna<4,>=2.5 in /Users/denesh/Desktop/IIT-Chicago/Sem-3/SPM/Assignment/Assignment_4-5/.venv/lib/python3.12/site-packages (from requests>=2.18->github3.py) (3.10)\n",
      "Requirement already satisfied: urllib3<3,>=1.21.1 in /Users/denesh/Desktop/IIT-Chicago/Sem-3/SPM/Assignment/Assignment_4-5/.venv/lib/python3.12/site-packages (from requests>=2.18->github3.py) (2.3.0)\n",
      "Requirement already satisfied: certifi>=2017.4.17 in /Users/denesh/Desktop/IIT-Chicago/Sem-3/SPM/Assignment/Assignment_4-5/.venv/lib/python3.12/site-packages (from requests>=2.18->github3.py) (2025.1.31)\n",
      "Requirement already satisfied: cffi>=1.12 in /Users/denesh/Desktop/IIT-Chicago/Sem-3/SPM/Assignment/Assignment_4-5/.venv/lib/python3.12/site-packages (from cryptography>=3.4.0->pyjwt[crypto]>=2.3.0->github3.py) (1.17.1)\n",
      "Requirement already satisfied: pycparser in /Users/denesh/Desktop/IIT-Chicago/Sem-3/SPM/Assignment/Assignment_4-5/.venv/lib/python3.12/site-packages (from cffi>=1.12->cryptography>=3.4.0->pyjwt[crypto]>=2.3.0->github3.py) (2.22)\n",
      "Requirement already satisfied: beautifulsoup4 in /Users/denesh/Desktop/IIT-Chicago/Sem-3/SPM/Assignment/Assignment_4-5/.venv/lib/python3.12/site-packages (4.13.3)\n",
      "Requirement already satisfied: soupsieve>1.2 in /Users/denesh/Desktop/IIT-Chicago/Sem-3/SPM/Assignment/Assignment_4-5/.venv/lib/python3.12/site-packages (from beautifulsoup4) (2.6)\n",
      "Requirement already satisfied: typing-extensions>=4.0.0 in /Users/denesh/Desktop/IIT-Chicago/Sem-3/SPM/Assignment/Assignment_4-5/.venv/lib/python3.12/site-packages (from beautifulsoup4) (4.13.0)\n"
     ]
    }
   ],
   "source": [
    "!pip install github3.py\n",
    "!pip install beautifulsoup4"
   ]
  },
  {
   "cell_type": "code",
   "execution_count": 2,
   "metadata": {},
   "outputs": [],
   "source": [
    "# pip install github3.py command for install github3\n",
    "# execute pip install github3.py command from the the command window/terminal\n",
    "#execute pip install beautifulsoup4 command from the command window/terminal\n",
    "\n",
    "import github3, json        \n",
    "from bs4 import BeautifulSoup\n"
   ]
  },
  {
   "cell_type": "code",
   "execution_count": null,
   "metadata": {},
   "outputs": [],
   "source": [
    "# Get an API key for GitHub and set it as GITHUB_TOKEN\n",
    "# Here is the URL to guide you on how to generate your GITHUB_TOKEN\n",
    "# https://help.github.com/articles/creating-an-access-token-for-command-line-use/\n",
    "\n",
    "# create your GitHub personal access tokens from https://github.com/settings/tokens\n",
    "\n",
    "GITHUB_TOKEN = ''\n",
    "ORG = 'SPM587SP25'\n",
    "REPO = 'SCM587SP25'\n",
    "FILENAME_ISSUES = ORG + 'issues.json'"
   ]
  },
  {
   "cell_type": "code",
   "execution_count": 4,
   "metadata": {},
   "outputs": [],
   "source": [
    "gh = github3.login(token=GITHUB_TOKEN)\n",
    "\n",
    "f = open(FILENAME_ISSUES, 'w')\n",
    "for issue in gh.search_issues('type:issue repo:SPM587SP25/SCM587SP25'):          # Find issues from given Repo\n",
    "            label_name=[]\n",
    "            data={}\n",
    "            current_issue = issue.as_json()\n",
    "            # print(current_issue)\n",
    "            current_issue = json.loads(current_issue)\n",
    "            data['issue_number']=current_issue[\"number\"]                          # Get issue number  \n",
    "            data['issue_title']=current_issue[\"title\"]                            # Get issue title\n",
    "            if current_issue[\"body_html\"]!=None:\n",
    "                data[\"issue_body\"]=BeautifulSoup(current_issue[\"body_html\"] , \"html.parser\").get_text()       # Get issue body\n",
    "            else:\n",
    "                data[\"issue_body\"]=\"No Body for the Issue\"\n",
    "            data['created_at']= current_issue[\"created_at\"][0:10]                 # Get created date of issue\n",
    "            if current_issue[\"closed_at\"] == None:\n",
    "                data['closed_at']= current_issue[\"closed_at\"]\n",
    "            else:\n",
    "                data['closed_at']= current_issue[\"closed_at\"][0:10]               # Get closed date of issue\n",
    "            for label in current_issue[\"labels\"]:\n",
    "                label_name.append(label[\"name\"])                                  # Get label name of issue\n",
    "            data['labels']= label_name\n",
    "            data['State'] = current_issue[\"state\"]                                # It gives state of issue like closed or open\n",
    "            data['Author'] = current_issue[\"user\"][\"login\"]                       # Get Author of issue\n",
    "            out=json.dumps(data)                                                  # save this all information to a JSON file\n",
    "            f.write(out+ '\\n')\n",
    "f.close()"
   ]
  },
  {
   "cell_type": "code",
   "execution_count": null,
   "metadata": {},
   "outputs": [],
   "source": []
  }
 ],
 "metadata": {
  "kernelspec": {
   "display_name": ".venv",
   "language": "python",
   "name": "python3"
  },
  "language_info": {
   "codemirror_mode": {
    "name": "ipython",
    "version": 3
   },
   "file_extension": ".py",
   "mimetype": "text/x-python",
   "name": "python",
   "nbconvert_exporter": "python",
   "pygments_lexer": "ipython3",
   "version": "3.12.1"
  },
  "vp": {
   "vp_config_version": "1.0.0",
   "vp_menu_width": 273,
   "vp_note_display": false,
   "vp_note_width": 0,
   "vp_position": {
    "width": 278
   },
   "vp_section_display": false,
   "vp_signature": "VisualPython"
  }
 },
 "nbformat": 4,
 "nbformat_minor": 4
}
