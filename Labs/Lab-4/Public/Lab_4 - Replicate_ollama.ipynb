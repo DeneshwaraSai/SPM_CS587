{
 "cells": [
  {
   "cell_type": "markdown",
   "id": "f1826cd6-b2c4-44de-9806-08a0c53ed12f",
   "metadata": {},
   "source": [
    "# 🔬 Virtual Lab 4: Running Llama Models and Deepseek on Replicate  \n",
    "\n",
    "<div style=\"border: 2px solid #4CAF50; padding: 15px; border-radius: 10px; background-color: #f4f4f4;\">\n",
    "\n",
    "### 🚀 **Platform**  \n",
    "**Replicate**  \n",
    "\n",
    "### 🏷️ **Models Used**  \n",
    "- **meta/meta-llama-3-70b-instruct**  \n",
    "- **meta-llama-3.1-405b-instruct**  \n",
    "- **meta/meta-llama-3-8b-instruct**  \n",
    "- **deepseek-ai/deepseek-r1**  \n",
    "\n",
    "### 🛠️ **Frameworks Used**  \n",
    "- **LlamaIndex**  \n",
    "- **LangChain / LangGraph**  \n",
    "\n",
    "</div>"
   ]
  },
  {
   "cell_type": "markdown",
   "id": "af17fd9c-9332-4ad3-805d-49c3fbb317fd",
   "metadata": {},
   "source": [
    "## Installation and Setup"
   ]
  },
  {
   "cell_type": "code",
   "execution_count": 1,
   "id": "2c2b904f-721f-49b8-9423-a14cd7e925d1",
   "metadata": {},
   "outputs": [
    {
     "name": "stdout",
     "output_type": "stream",
     "text": [
      "Requirement already satisfied: llama-index in /Users/denesh/Desktop/IIT-Chicago/Sem-3/SPM/VirtualLabs/Lab_4/venv_lab_4/lib/python3.12/site-packages (0.12.22)\n",
      "Requirement already satisfied: llama-index-agent-openai<0.5.0,>=0.4.0 in /Users/denesh/Desktop/IIT-Chicago/Sem-3/SPM/VirtualLabs/Lab_4/venv_lab_4/lib/python3.12/site-packages (from llama-index) (0.4.6)\n",
      "Requirement already satisfied: llama-index-cli<0.5.0,>=0.4.1 in /Users/denesh/Desktop/IIT-Chicago/Sem-3/SPM/VirtualLabs/Lab_4/venv_lab_4/lib/python3.12/site-packages (from llama-index) (0.4.1)\n",
      "Requirement already satisfied: llama-index-core<0.13.0,>=0.12.22 in /Users/denesh/Desktop/IIT-Chicago/Sem-3/SPM/VirtualLabs/Lab_4/venv_lab_4/lib/python3.12/site-packages (from llama-index) (0.12.22)\n",
      "Requirement already satisfied: llama-index-embeddings-openai<0.4.0,>=0.3.0 in /Users/denesh/Desktop/IIT-Chicago/Sem-3/SPM/VirtualLabs/Lab_4/venv_lab_4/lib/python3.12/site-packages (from llama-index) (0.3.1)\n",
      "Requirement already satisfied: llama-index-indices-managed-llama-cloud>=0.4.0 in /Users/denesh/Desktop/IIT-Chicago/Sem-3/SPM/VirtualLabs/Lab_4/venv_lab_4/lib/python3.12/site-packages (from llama-index) (0.6.8)\n",
      "Requirement already satisfied: llama-index-llms-openai<0.4.0,>=0.3.0 in /Users/denesh/Desktop/IIT-Chicago/Sem-3/SPM/VirtualLabs/Lab_4/venv_lab_4/lib/python3.12/site-packages (from llama-index) (0.3.25)\n",
      "Requirement already satisfied: llama-index-multi-modal-llms-openai<0.5.0,>=0.4.0 in /Users/denesh/Desktop/IIT-Chicago/Sem-3/SPM/VirtualLabs/Lab_4/venv_lab_4/lib/python3.12/site-packages (from llama-index) (0.4.3)\n",
      "Requirement already satisfied: llama-index-program-openai<0.4.0,>=0.3.0 in /Users/denesh/Desktop/IIT-Chicago/Sem-3/SPM/VirtualLabs/Lab_4/venv_lab_4/lib/python3.12/site-packages (from llama-index) (0.3.1)\n",
      "Requirement already satisfied: llama-index-question-gen-openai<0.4.0,>=0.3.0 in /Users/denesh/Desktop/IIT-Chicago/Sem-3/SPM/VirtualLabs/Lab_4/venv_lab_4/lib/python3.12/site-packages (from llama-index) (0.3.0)\n",
      "Requirement already satisfied: llama-index-readers-file<0.5.0,>=0.4.0 in /Users/denesh/Desktop/IIT-Chicago/Sem-3/SPM/VirtualLabs/Lab_4/venv_lab_4/lib/python3.12/site-packages (from llama-index) (0.4.5)\n",
      "Requirement already satisfied: llama-index-readers-llama-parse>=0.4.0 in /Users/denesh/Desktop/IIT-Chicago/Sem-3/SPM/VirtualLabs/Lab_4/venv_lab_4/lib/python3.12/site-packages (from llama-index) (0.4.0)\n",
      "Requirement already satisfied: nltk>3.8.1 in /Users/denesh/Desktop/IIT-Chicago/Sem-3/SPM/VirtualLabs/Lab_4/venv_lab_4/lib/python3.12/site-packages (from llama-index) (3.9.1)\n",
      "Requirement already satisfied: openai>=1.14.0 in /Users/denesh/Desktop/IIT-Chicago/Sem-3/SPM/VirtualLabs/Lab_4/venv_lab_4/lib/python3.12/site-packages (from llama-index-agent-openai<0.5.0,>=0.4.0->llama-index) (1.66.3)\n",
      "Requirement already satisfied: PyYAML>=6.0.1 in /Users/denesh/Desktop/IIT-Chicago/Sem-3/SPM/VirtualLabs/Lab_4/venv_lab_4/lib/python3.12/site-packages (from llama-index-core<0.13.0,>=0.12.22->llama-index) (6.0.2)\n",
      "Requirement already satisfied: SQLAlchemy>=1.4.49 in /Users/denesh/Desktop/IIT-Chicago/Sem-3/SPM/VirtualLabs/Lab_4/venv_lab_4/lib/python3.12/site-packages (from SQLAlchemy[asyncio]>=1.4.49->llama-index-core<0.13.0,>=0.12.22->llama-index) (2.0.38)\n",
      "Requirement already satisfied: aiohttp<4.0.0,>=3.8.6 in /Users/denesh/Desktop/IIT-Chicago/Sem-3/SPM/VirtualLabs/Lab_4/venv_lab_4/lib/python3.12/site-packages (from llama-index-core<0.13.0,>=0.12.22->llama-index) (3.11.13)\n",
      "Requirement already satisfied: dataclasses-json in /Users/denesh/Desktop/IIT-Chicago/Sem-3/SPM/VirtualLabs/Lab_4/venv_lab_4/lib/python3.12/site-packages (from llama-index-core<0.13.0,>=0.12.22->llama-index) (0.6.7)\n",
      "Requirement already satisfied: deprecated>=1.2.9.3 in /Users/denesh/Desktop/IIT-Chicago/Sem-3/SPM/VirtualLabs/Lab_4/venv_lab_4/lib/python3.12/site-packages (from llama-index-core<0.13.0,>=0.12.22->llama-index) (1.2.18)\n",
      "Requirement already satisfied: dirtyjson<2.0.0,>=1.0.8 in /Users/denesh/Desktop/IIT-Chicago/Sem-3/SPM/VirtualLabs/Lab_4/venv_lab_4/lib/python3.12/site-packages (from llama-index-core<0.13.0,>=0.12.22->llama-index) (1.0.8)\n",
      "Requirement already satisfied: filetype<2.0.0,>=1.2.0 in /Users/denesh/Desktop/IIT-Chicago/Sem-3/SPM/VirtualLabs/Lab_4/venv_lab_4/lib/python3.12/site-packages (from llama-index-core<0.13.0,>=0.12.22->llama-index) (1.2.0)\n",
      "Requirement already satisfied: fsspec>=2023.5.0 in /Users/denesh/Desktop/IIT-Chicago/Sem-3/SPM/VirtualLabs/Lab_4/venv_lab_4/lib/python3.12/site-packages (from llama-index-core<0.13.0,>=0.12.22->llama-index) (2025.2.0)\n",
      "Requirement already satisfied: httpx in /Users/denesh/Desktop/IIT-Chicago/Sem-3/SPM/VirtualLabs/Lab_4/venv_lab_4/lib/python3.12/site-packages (from llama-index-core<0.13.0,>=0.12.22->llama-index) (0.28.1)\n",
      "Requirement already satisfied: nest-asyncio<2.0.0,>=1.5.8 in /Users/denesh/Desktop/IIT-Chicago/Sem-3/SPM/VirtualLabs/Lab_4/venv_lab_4/lib/python3.12/site-packages (from llama-index-core<0.13.0,>=0.12.22->llama-index) (1.6.0)\n",
      "Requirement already satisfied: networkx>=3.0 in /Users/denesh/Desktop/IIT-Chicago/Sem-3/SPM/VirtualLabs/Lab_4/venv_lab_4/lib/python3.12/site-packages (from llama-index-core<0.13.0,>=0.12.22->llama-index) (3.4.2)\n",
      "Requirement already satisfied: numpy in /Users/denesh/Desktop/IIT-Chicago/Sem-3/SPM/VirtualLabs/Lab_4/venv_lab_4/lib/python3.12/site-packages (from llama-index-core<0.13.0,>=0.12.22->llama-index) (2.2.3)\n",
      "Requirement already satisfied: pillow>=9.0.0 in /Users/denesh/Desktop/IIT-Chicago/Sem-3/SPM/VirtualLabs/Lab_4/venv_lab_4/lib/python3.12/site-packages (from llama-index-core<0.13.0,>=0.12.22->llama-index) (11.1.0)\n",
      "Requirement already satisfied: pydantic>=2.8.0 in /Users/denesh/Desktop/IIT-Chicago/Sem-3/SPM/VirtualLabs/Lab_4/venv_lab_4/lib/python3.12/site-packages (from llama-index-core<0.13.0,>=0.12.22->llama-index) (2.10.6)\n",
      "Requirement already satisfied: requests>=2.31.0 in /Users/denesh/Desktop/IIT-Chicago/Sem-3/SPM/VirtualLabs/Lab_4/venv_lab_4/lib/python3.12/site-packages (from llama-index-core<0.13.0,>=0.12.22->llama-index) (2.32.3)\n",
      "Requirement already satisfied: tenacity!=8.4.0,<10.0.0,>=8.2.0 in /Users/denesh/Desktop/IIT-Chicago/Sem-3/SPM/VirtualLabs/Lab_4/venv_lab_4/lib/python3.12/site-packages (from llama-index-core<0.13.0,>=0.12.22->llama-index) (9.0.0)\n",
      "Requirement already satisfied: tiktoken>=0.3.3 in /Users/denesh/Desktop/IIT-Chicago/Sem-3/SPM/VirtualLabs/Lab_4/venv_lab_4/lib/python3.12/site-packages (from llama-index-core<0.13.0,>=0.12.22->llama-index) (0.9.0)\n",
      "Requirement already satisfied: tqdm<5.0.0,>=4.66.1 in /Users/denesh/Desktop/IIT-Chicago/Sem-3/SPM/VirtualLabs/Lab_4/venv_lab_4/lib/python3.12/site-packages (from llama-index-core<0.13.0,>=0.12.22->llama-index) (4.67.1)\n",
      "Requirement already satisfied: typing-extensions>=4.5.0 in /Users/denesh/Desktop/IIT-Chicago/Sem-3/SPM/VirtualLabs/Lab_4/venv_lab_4/lib/python3.12/site-packages (from llama-index-core<0.13.0,>=0.12.22->llama-index) (4.12.2)\n",
      "Requirement already satisfied: typing-inspect>=0.8.0 in /Users/denesh/Desktop/IIT-Chicago/Sem-3/SPM/VirtualLabs/Lab_4/venv_lab_4/lib/python3.12/site-packages (from llama-index-core<0.13.0,>=0.12.22->llama-index) (0.9.0)\n",
      "Requirement already satisfied: wrapt in /Users/denesh/Desktop/IIT-Chicago/Sem-3/SPM/VirtualLabs/Lab_4/venv_lab_4/lib/python3.12/site-packages (from llama-index-core<0.13.0,>=0.12.22->llama-index) (1.17.2)\n",
      "Requirement already satisfied: llama-cloud<0.2.0,>=0.1.13 in /Users/denesh/Desktop/IIT-Chicago/Sem-3/SPM/VirtualLabs/Lab_4/venv_lab_4/lib/python3.12/site-packages (from llama-index-indices-managed-llama-cloud>=0.4.0->llama-index) (0.1.13)\n",
      "Requirement already satisfied: beautifulsoup4<5.0.0,>=4.12.3 in /Users/denesh/Desktop/IIT-Chicago/Sem-3/SPM/VirtualLabs/Lab_4/venv_lab_4/lib/python3.12/site-packages (from llama-index-readers-file<0.5.0,>=0.4.0->llama-index) (4.13.3)\n",
      "Requirement already satisfied: pandas in /Users/denesh/Desktop/IIT-Chicago/Sem-3/SPM/VirtualLabs/Lab_4/venv_lab_4/lib/python3.12/site-packages (from llama-index-readers-file<0.5.0,>=0.4.0->llama-index) (2.2.3)\n",
      "Requirement already satisfied: pypdf<6.0.0,>=5.1.0 in /Users/denesh/Desktop/IIT-Chicago/Sem-3/SPM/VirtualLabs/Lab_4/venv_lab_4/lib/python3.12/site-packages (from llama-index-readers-file<0.5.0,>=0.4.0->llama-index) (5.3.0)\n",
      "Requirement already satisfied: striprtf<0.0.27,>=0.0.26 in /Users/denesh/Desktop/IIT-Chicago/Sem-3/SPM/VirtualLabs/Lab_4/venv_lab_4/lib/python3.12/site-packages (from llama-index-readers-file<0.5.0,>=0.4.0->llama-index) (0.0.26)\n",
      "Requirement already satisfied: llama-parse>=0.5.0 in /Users/denesh/Desktop/IIT-Chicago/Sem-3/SPM/VirtualLabs/Lab_4/venv_lab_4/lib/python3.12/site-packages (from llama-index-readers-llama-parse>=0.4.0->llama-index) (0.6.2)\n",
      "Requirement already satisfied: click in /Users/denesh/Desktop/IIT-Chicago/Sem-3/SPM/VirtualLabs/Lab_4/venv_lab_4/lib/python3.12/site-packages (from nltk>3.8.1->llama-index) (8.1.8)\n",
      "Requirement already satisfied: joblib in /Users/denesh/Desktop/IIT-Chicago/Sem-3/SPM/VirtualLabs/Lab_4/venv_lab_4/lib/python3.12/site-packages (from nltk>3.8.1->llama-index) (1.4.2)\n",
      "Requirement already satisfied: regex>=2021.8.3 in /Users/denesh/Desktop/IIT-Chicago/Sem-3/SPM/VirtualLabs/Lab_4/venv_lab_4/lib/python3.12/site-packages (from nltk>3.8.1->llama-index) (2024.11.6)\n",
      "Requirement already satisfied: aiohappyeyeballs>=2.3.0 in /Users/denesh/Desktop/IIT-Chicago/Sem-3/SPM/VirtualLabs/Lab_4/venv_lab_4/lib/python3.12/site-packages (from aiohttp<4.0.0,>=3.8.6->llama-index-core<0.13.0,>=0.12.22->llama-index) (2.4.6)\n",
      "Requirement already satisfied: aiosignal>=1.1.2 in /Users/denesh/Desktop/IIT-Chicago/Sem-3/SPM/VirtualLabs/Lab_4/venv_lab_4/lib/python3.12/site-packages (from aiohttp<4.0.0,>=3.8.6->llama-index-core<0.13.0,>=0.12.22->llama-index) (1.3.2)\n",
      "Requirement already satisfied: attrs>=17.3.0 in /Users/denesh/Desktop/IIT-Chicago/Sem-3/SPM/VirtualLabs/Lab_4/venv_lab_4/lib/python3.12/site-packages (from aiohttp<4.0.0,>=3.8.6->llama-index-core<0.13.0,>=0.12.22->llama-index) (25.1.0)\n",
      "Requirement already satisfied: frozenlist>=1.1.1 in /Users/denesh/Desktop/IIT-Chicago/Sem-3/SPM/VirtualLabs/Lab_4/venv_lab_4/lib/python3.12/site-packages (from aiohttp<4.0.0,>=3.8.6->llama-index-core<0.13.0,>=0.12.22->llama-index) (1.5.0)\n",
      "Requirement already satisfied: multidict<7.0,>=4.5 in /Users/denesh/Desktop/IIT-Chicago/Sem-3/SPM/VirtualLabs/Lab_4/venv_lab_4/lib/python3.12/site-packages (from aiohttp<4.0.0,>=3.8.6->llama-index-core<0.13.0,>=0.12.22->llama-index) (6.1.0)\n",
      "Requirement already satisfied: propcache>=0.2.0 in /Users/denesh/Desktop/IIT-Chicago/Sem-3/SPM/VirtualLabs/Lab_4/venv_lab_4/lib/python3.12/site-packages (from aiohttp<4.0.0,>=3.8.6->llama-index-core<0.13.0,>=0.12.22->llama-index) (0.3.0)\n",
      "Requirement already satisfied: yarl<2.0,>=1.17.0 in /Users/denesh/Desktop/IIT-Chicago/Sem-3/SPM/VirtualLabs/Lab_4/venv_lab_4/lib/python3.12/site-packages (from aiohttp<4.0.0,>=3.8.6->llama-index-core<0.13.0,>=0.12.22->llama-index) (1.18.3)\n",
      "Requirement already satisfied: soupsieve>1.2 in /Users/denesh/Desktop/IIT-Chicago/Sem-3/SPM/VirtualLabs/Lab_4/venv_lab_4/lib/python3.12/site-packages (from beautifulsoup4<5.0.0,>=4.12.3->llama-index-readers-file<0.5.0,>=0.4.0->llama-index) (2.6)\n",
      "Requirement already satisfied: certifi>=2024.7.4 in /Users/denesh/Desktop/IIT-Chicago/Sem-3/SPM/VirtualLabs/Lab_4/venv_lab_4/lib/python3.12/site-packages (from llama-cloud<0.2.0,>=0.1.13->llama-index-indices-managed-llama-cloud>=0.4.0->llama-index) (2025.1.31)\n",
      "Requirement already satisfied: anyio in /Users/denesh/Desktop/IIT-Chicago/Sem-3/SPM/VirtualLabs/Lab_4/venv_lab_4/lib/python3.12/site-packages (from httpx->llama-index-core<0.13.0,>=0.12.22->llama-index) (4.8.0)\n",
      "Requirement already satisfied: httpcore==1.* in /Users/denesh/Desktop/IIT-Chicago/Sem-3/SPM/VirtualLabs/Lab_4/venv_lab_4/lib/python3.12/site-packages (from httpx->llama-index-core<0.13.0,>=0.12.22->llama-index) (1.0.7)\n",
      "Requirement already satisfied: idna in /Users/denesh/Desktop/IIT-Chicago/Sem-3/SPM/VirtualLabs/Lab_4/venv_lab_4/lib/python3.12/site-packages (from httpx->llama-index-core<0.13.0,>=0.12.22->llama-index) (3.10)\n",
      "Requirement already satisfied: h11<0.15,>=0.13 in /Users/denesh/Desktop/IIT-Chicago/Sem-3/SPM/VirtualLabs/Lab_4/venv_lab_4/lib/python3.12/site-packages (from httpcore==1.*->httpx->llama-index-core<0.13.0,>=0.12.22->llama-index) (0.14.0)\n",
      "Requirement already satisfied: llama-cloud-services>=0.6.2 in /Users/denesh/Desktop/IIT-Chicago/Sem-3/SPM/VirtualLabs/Lab_4/venv_lab_4/lib/python3.12/site-packages (from llama-parse>=0.5.0->llama-index-readers-llama-parse>=0.4.0->llama-index) (0.6.3)\n",
      "Requirement already satisfied: distro<2,>=1.7.0 in /Users/denesh/Desktop/IIT-Chicago/Sem-3/SPM/VirtualLabs/Lab_4/venv_lab_4/lib/python3.12/site-packages (from openai>=1.14.0->llama-index-agent-openai<0.5.0,>=0.4.0->llama-index) (1.9.0)\n",
      "Requirement already satisfied: jiter<1,>=0.4.0 in /Users/denesh/Desktop/IIT-Chicago/Sem-3/SPM/VirtualLabs/Lab_4/venv_lab_4/lib/python3.12/site-packages (from openai>=1.14.0->llama-index-agent-openai<0.5.0,>=0.4.0->llama-index) (0.8.2)\n",
      "Requirement already satisfied: sniffio in /Users/denesh/Desktop/IIT-Chicago/Sem-3/SPM/VirtualLabs/Lab_4/venv_lab_4/lib/python3.12/site-packages (from openai>=1.14.0->llama-index-agent-openai<0.5.0,>=0.4.0->llama-index) (1.3.1)\n",
      "Requirement already satisfied: annotated-types>=0.6.0 in /Users/denesh/Desktop/IIT-Chicago/Sem-3/SPM/VirtualLabs/Lab_4/venv_lab_4/lib/python3.12/site-packages (from pydantic>=2.8.0->llama-index-core<0.13.0,>=0.12.22->llama-index) (0.7.0)\n",
      "Requirement already satisfied: pydantic-core==2.27.2 in /Users/denesh/Desktop/IIT-Chicago/Sem-3/SPM/VirtualLabs/Lab_4/venv_lab_4/lib/python3.12/site-packages (from pydantic>=2.8.0->llama-index-core<0.13.0,>=0.12.22->llama-index) (2.27.2)\n",
      "Requirement already satisfied: charset-normalizer<4,>=2 in /Users/denesh/Desktop/IIT-Chicago/Sem-3/SPM/VirtualLabs/Lab_4/venv_lab_4/lib/python3.12/site-packages (from requests>=2.31.0->llama-index-core<0.13.0,>=0.12.22->llama-index) (3.4.1)\n",
      "Requirement already satisfied: urllib3<3,>=1.21.1 in /Users/denesh/Desktop/IIT-Chicago/Sem-3/SPM/VirtualLabs/Lab_4/venv_lab_4/lib/python3.12/site-packages (from requests>=2.31.0->llama-index-core<0.13.0,>=0.12.22->llama-index) (2.3.0)\n",
      "Requirement already satisfied: greenlet!=0.4.17 in /Users/denesh/Desktop/IIT-Chicago/Sem-3/SPM/VirtualLabs/Lab_4/venv_lab_4/lib/python3.12/site-packages (from SQLAlchemy[asyncio]>=1.4.49->llama-index-core<0.13.0,>=0.12.22->llama-index) (3.1.1)\n",
      "Requirement already satisfied: mypy-extensions>=0.3.0 in /Users/denesh/Desktop/IIT-Chicago/Sem-3/SPM/VirtualLabs/Lab_4/venv_lab_4/lib/python3.12/site-packages (from typing-inspect>=0.8.0->llama-index-core<0.13.0,>=0.12.22->llama-index) (1.0.0)\n",
      "Requirement already satisfied: marshmallow<4.0.0,>=3.18.0 in /Users/denesh/Desktop/IIT-Chicago/Sem-3/SPM/VirtualLabs/Lab_4/venv_lab_4/lib/python3.12/site-packages (from dataclasses-json->llama-index-core<0.13.0,>=0.12.22->llama-index) (3.26.1)\n",
      "Requirement already satisfied: python-dateutil>=2.8.2 in /Users/denesh/Desktop/IIT-Chicago/Sem-3/SPM/VirtualLabs/Lab_4/venv_lab_4/lib/python3.12/site-packages (from pandas->llama-index-readers-file<0.5.0,>=0.4.0->llama-index) (2.9.0.post0)\n",
      "Requirement already satisfied: pytz>=2020.1 in /Users/denesh/Desktop/IIT-Chicago/Sem-3/SPM/VirtualLabs/Lab_4/venv_lab_4/lib/python3.12/site-packages (from pandas->llama-index-readers-file<0.5.0,>=0.4.0->llama-index) (2025.1)\n",
      "Requirement already satisfied: tzdata>=2022.7 in /Users/denesh/Desktop/IIT-Chicago/Sem-3/SPM/VirtualLabs/Lab_4/venv_lab_4/lib/python3.12/site-packages (from pandas->llama-index-readers-file<0.5.0,>=0.4.0->llama-index) (2025.1)\n",
      "Requirement already satisfied: python-dotenv<2.0.0,>=1.0.1 in /Users/denesh/Desktop/IIT-Chicago/Sem-3/SPM/VirtualLabs/Lab_4/venv_lab_4/lib/python3.12/site-packages (from llama-cloud-services>=0.6.2->llama-parse>=0.5.0->llama-index-readers-llama-parse>=0.4.0->llama-index) (1.0.1)\n",
      "Requirement already satisfied: packaging>=17.0 in /Users/denesh/Desktop/IIT-Chicago/Sem-3/SPM/VirtualLabs/Lab_4/venv_lab_4/lib/python3.12/site-packages (from marshmallow<4.0.0,>=3.18.0->dataclasses-json->llama-index-core<0.13.0,>=0.12.22->llama-index) (24.2)\n",
      "Requirement already satisfied: six>=1.5 in /Users/denesh/Desktop/IIT-Chicago/Sem-3/SPM/VirtualLabs/Lab_4/venv_lab_4/lib/python3.12/site-packages (from python-dateutil>=2.8.2->pandas->llama-index-readers-file<0.5.0,>=0.4.0->llama-index) (1.17.0)\n",
      "Requirement already satisfied: llama-index-llms-ollama in /Users/denesh/Desktop/IIT-Chicago/Sem-3/SPM/VirtualLabs/Lab_4/venv_lab_4/lib/python3.12/site-packages (0.5.2)\n",
      "Requirement already satisfied: llama-index-core<0.13.0,>=0.12.4 in /Users/denesh/Desktop/IIT-Chicago/Sem-3/SPM/VirtualLabs/Lab_4/venv_lab_4/lib/python3.12/site-packages (from llama-index-llms-ollama) (0.12.22)\n",
      "Requirement already satisfied: ollama>=0.4.3 in /Users/denesh/Desktop/IIT-Chicago/Sem-3/SPM/VirtualLabs/Lab_4/venv_lab_4/lib/python3.12/site-packages (from llama-index-llms-ollama) (0.4.7)\n",
      "Requirement already satisfied: PyYAML>=6.0.1 in /Users/denesh/Desktop/IIT-Chicago/Sem-3/SPM/VirtualLabs/Lab_4/venv_lab_4/lib/python3.12/site-packages (from llama-index-core<0.13.0,>=0.12.4->llama-index-llms-ollama) (6.0.2)\n",
      "Requirement already satisfied: SQLAlchemy>=1.4.49 in /Users/denesh/Desktop/IIT-Chicago/Sem-3/SPM/VirtualLabs/Lab_4/venv_lab_4/lib/python3.12/site-packages (from SQLAlchemy[asyncio]>=1.4.49->llama-index-core<0.13.0,>=0.12.4->llama-index-llms-ollama) (2.0.38)\n",
      "Requirement already satisfied: aiohttp<4.0.0,>=3.8.6 in /Users/denesh/Desktop/IIT-Chicago/Sem-3/SPM/VirtualLabs/Lab_4/venv_lab_4/lib/python3.12/site-packages (from llama-index-core<0.13.0,>=0.12.4->llama-index-llms-ollama) (3.11.13)\n",
      "Requirement already satisfied: dataclasses-json in /Users/denesh/Desktop/IIT-Chicago/Sem-3/SPM/VirtualLabs/Lab_4/venv_lab_4/lib/python3.12/site-packages (from llama-index-core<0.13.0,>=0.12.4->llama-index-llms-ollama) (0.6.7)\n",
      "Requirement already satisfied: deprecated>=1.2.9.3 in /Users/denesh/Desktop/IIT-Chicago/Sem-3/SPM/VirtualLabs/Lab_4/venv_lab_4/lib/python3.12/site-packages (from llama-index-core<0.13.0,>=0.12.4->llama-index-llms-ollama) (1.2.18)\n",
      "Requirement already satisfied: dirtyjson<2.0.0,>=1.0.8 in /Users/denesh/Desktop/IIT-Chicago/Sem-3/SPM/VirtualLabs/Lab_4/venv_lab_4/lib/python3.12/site-packages (from llama-index-core<0.13.0,>=0.12.4->llama-index-llms-ollama) (1.0.8)\n",
      "Requirement already satisfied: filetype<2.0.0,>=1.2.0 in /Users/denesh/Desktop/IIT-Chicago/Sem-3/SPM/VirtualLabs/Lab_4/venv_lab_4/lib/python3.12/site-packages (from llama-index-core<0.13.0,>=0.12.4->llama-index-llms-ollama) (1.2.0)\n",
      "Requirement already satisfied: fsspec>=2023.5.0 in /Users/denesh/Desktop/IIT-Chicago/Sem-3/SPM/VirtualLabs/Lab_4/venv_lab_4/lib/python3.12/site-packages (from llama-index-core<0.13.0,>=0.12.4->llama-index-llms-ollama) (2025.2.0)\n",
      "Requirement already satisfied: httpx in /Users/denesh/Desktop/IIT-Chicago/Sem-3/SPM/VirtualLabs/Lab_4/venv_lab_4/lib/python3.12/site-packages (from llama-index-core<0.13.0,>=0.12.4->llama-index-llms-ollama) (0.28.1)\n",
      "Requirement already satisfied: nest-asyncio<2.0.0,>=1.5.8 in /Users/denesh/Desktop/IIT-Chicago/Sem-3/SPM/VirtualLabs/Lab_4/venv_lab_4/lib/python3.12/site-packages (from llama-index-core<0.13.0,>=0.12.4->llama-index-llms-ollama) (1.6.0)\n",
      "Requirement already satisfied: networkx>=3.0 in /Users/denesh/Desktop/IIT-Chicago/Sem-3/SPM/VirtualLabs/Lab_4/venv_lab_4/lib/python3.12/site-packages (from llama-index-core<0.13.0,>=0.12.4->llama-index-llms-ollama) (3.4.2)\n",
      "Requirement already satisfied: nltk>3.8.1 in /Users/denesh/Desktop/IIT-Chicago/Sem-3/SPM/VirtualLabs/Lab_4/venv_lab_4/lib/python3.12/site-packages (from llama-index-core<0.13.0,>=0.12.4->llama-index-llms-ollama) (3.9.1)\n",
      "Requirement already satisfied: numpy in /Users/denesh/Desktop/IIT-Chicago/Sem-3/SPM/VirtualLabs/Lab_4/venv_lab_4/lib/python3.12/site-packages (from llama-index-core<0.13.0,>=0.12.4->llama-index-llms-ollama) (2.2.3)\n",
      "Requirement already satisfied: pillow>=9.0.0 in /Users/denesh/Desktop/IIT-Chicago/Sem-3/SPM/VirtualLabs/Lab_4/venv_lab_4/lib/python3.12/site-packages (from llama-index-core<0.13.0,>=0.12.4->llama-index-llms-ollama) (11.1.0)\n",
      "Requirement already satisfied: pydantic>=2.8.0 in /Users/denesh/Desktop/IIT-Chicago/Sem-3/SPM/VirtualLabs/Lab_4/venv_lab_4/lib/python3.12/site-packages (from llama-index-core<0.13.0,>=0.12.4->llama-index-llms-ollama) (2.10.6)\n",
      "Requirement already satisfied: requests>=2.31.0 in /Users/denesh/Desktop/IIT-Chicago/Sem-3/SPM/VirtualLabs/Lab_4/venv_lab_4/lib/python3.12/site-packages (from llama-index-core<0.13.0,>=0.12.4->llama-index-llms-ollama) (2.32.3)\n",
      "Requirement already satisfied: tenacity!=8.4.0,<10.0.0,>=8.2.0 in /Users/denesh/Desktop/IIT-Chicago/Sem-3/SPM/VirtualLabs/Lab_4/venv_lab_4/lib/python3.12/site-packages (from llama-index-core<0.13.0,>=0.12.4->llama-index-llms-ollama) (9.0.0)\n",
      "Requirement already satisfied: tiktoken>=0.3.3 in /Users/denesh/Desktop/IIT-Chicago/Sem-3/SPM/VirtualLabs/Lab_4/venv_lab_4/lib/python3.12/site-packages (from llama-index-core<0.13.0,>=0.12.4->llama-index-llms-ollama) (0.9.0)\n",
      "Requirement already satisfied: tqdm<5.0.0,>=4.66.1 in /Users/denesh/Desktop/IIT-Chicago/Sem-3/SPM/VirtualLabs/Lab_4/venv_lab_4/lib/python3.12/site-packages (from llama-index-core<0.13.0,>=0.12.4->llama-index-llms-ollama) (4.67.1)\n",
      "Requirement already satisfied: typing-extensions>=4.5.0 in /Users/denesh/Desktop/IIT-Chicago/Sem-3/SPM/VirtualLabs/Lab_4/venv_lab_4/lib/python3.12/site-packages (from llama-index-core<0.13.0,>=0.12.4->llama-index-llms-ollama) (4.12.2)\n",
      "Requirement already satisfied: typing-inspect>=0.8.0 in /Users/denesh/Desktop/IIT-Chicago/Sem-3/SPM/VirtualLabs/Lab_4/venv_lab_4/lib/python3.12/site-packages (from llama-index-core<0.13.0,>=0.12.4->llama-index-llms-ollama) (0.9.0)\n",
      "Requirement already satisfied: wrapt in /Users/denesh/Desktop/IIT-Chicago/Sem-3/SPM/VirtualLabs/Lab_4/venv_lab_4/lib/python3.12/site-packages (from llama-index-core<0.13.0,>=0.12.4->llama-index-llms-ollama) (1.17.2)\n",
      "Requirement already satisfied: aiohappyeyeballs>=2.3.0 in /Users/denesh/Desktop/IIT-Chicago/Sem-3/SPM/VirtualLabs/Lab_4/venv_lab_4/lib/python3.12/site-packages (from aiohttp<4.0.0,>=3.8.6->llama-index-core<0.13.0,>=0.12.4->llama-index-llms-ollama) (2.4.6)\n",
      "Requirement already satisfied: aiosignal>=1.1.2 in /Users/denesh/Desktop/IIT-Chicago/Sem-3/SPM/VirtualLabs/Lab_4/venv_lab_4/lib/python3.12/site-packages (from aiohttp<4.0.0,>=3.8.6->llama-index-core<0.13.0,>=0.12.4->llama-index-llms-ollama) (1.3.2)\n",
      "Requirement already satisfied: attrs>=17.3.0 in /Users/denesh/Desktop/IIT-Chicago/Sem-3/SPM/VirtualLabs/Lab_4/venv_lab_4/lib/python3.12/site-packages (from aiohttp<4.0.0,>=3.8.6->llama-index-core<0.13.0,>=0.12.4->llama-index-llms-ollama) (25.1.0)\n",
      "Requirement already satisfied: frozenlist>=1.1.1 in /Users/denesh/Desktop/IIT-Chicago/Sem-3/SPM/VirtualLabs/Lab_4/venv_lab_4/lib/python3.12/site-packages (from aiohttp<4.0.0,>=3.8.6->llama-index-core<0.13.0,>=0.12.4->llama-index-llms-ollama) (1.5.0)\n",
      "Requirement already satisfied: multidict<7.0,>=4.5 in /Users/denesh/Desktop/IIT-Chicago/Sem-3/SPM/VirtualLabs/Lab_4/venv_lab_4/lib/python3.12/site-packages (from aiohttp<4.0.0,>=3.8.6->llama-index-core<0.13.0,>=0.12.4->llama-index-llms-ollama) (6.1.0)\n",
      "Requirement already satisfied: propcache>=0.2.0 in /Users/denesh/Desktop/IIT-Chicago/Sem-3/SPM/VirtualLabs/Lab_4/venv_lab_4/lib/python3.12/site-packages (from aiohttp<4.0.0,>=3.8.6->llama-index-core<0.13.0,>=0.12.4->llama-index-llms-ollama) (0.3.0)\n",
      "Requirement already satisfied: yarl<2.0,>=1.17.0 in /Users/denesh/Desktop/IIT-Chicago/Sem-3/SPM/VirtualLabs/Lab_4/venv_lab_4/lib/python3.12/site-packages (from aiohttp<4.0.0,>=3.8.6->llama-index-core<0.13.0,>=0.12.4->llama-index-llms-ollama) (1.18.3)\n",
      "Requirement already satisfied: anyio in /Users/denesh/Desktop/IIT-Chicago/Sem-3/SPM/VirtualLabs/Lab_4/venv_lab_4/lib/python3.12/site-packages (from httpx->llama-index-core<0.13.0,>=0.12.4->llama-index-llms-ollama) (4.8.0)\n",
      "Requirement already satisfied: certifi in /Users/denesh/Desktop/IIT-Chicago/Sem-3/SPM/VirtualLabs/Lab_4/venv_lab_4/lib/python3.12/site-packages (from httpx->llama-index-core<0.13.0,>=0.12.4->llama-index-llms-ollama) (2025.1.31)\n",
      "Requirement already satisfied: httpcore==1.* in /Users/denesh/Desktop/IIT-Chicago/Sem-3/SPM/VirtualLabs/Lab_4/venv_lab_4/lib/python3.12/site-packages (from httpx->llama-index-core<0.13.0,>=0.12.4->llama-index-llms-ollama) (1.0.7)\n",
      "Requirement already satisfied: idna in /Users/denesh/Desktop/IIT-Chicago/Sem-3/SPM/VirtualLabs/Lab_4/venv_lab_4/lib/python3.12/site-packages (from httpx->llama-index-core<0.13.0,>=0.12.4->llama-index-llms-ollama) (3.10)\n",
      "Requirement already satisfied: h11<0.15,>=0.13 in /Users/denesh/Desktop/IIT-Chicago/Sem-3/SPM/VirtualLabs/Lab_4/venv_lab_4/lib/python3.12/site-packages (from httpcore==1.*->httpx->llama-index-core<0.13.0,>=0.12.4->llama-index-llms-ollama) (0.14.0)\n",
      "Requirement already satisfied: click in /Users/denesh/Desktop/IIT-Chicago/Sem-3/SPM/VirtualLabs/Lab_4/venv_lab_4/lib/python3.12/site-packages (from nltk>3.8.1->llama-index-core<0.13.0,>=0.12.4->llama-index-llms-ollama) (8.1.8)\n",
      "Requirement already satisfied: joblib in /Users/denesh/Desktop/IIT-Chicago/Sem-3/SPM/VirtualLabs/Lab_4/venv_lab_4/lib/python3.12/site-packages (from nltk>3.8.1->llama-index-core<0.13.0,>=0.12.4->llama-index-llms-ollama) (1.4.2)\n",
      "Requirement already satisfied: regex>=2021.8.3 in /Users/denesh/Desktop/IIT-Chicago/Sem-3/SPM/VirtualLabs/Lab_4/venv_lab_4/lib/python3.12/site-packages (from nltk>3.8.1->llama-index-core<0.13.0,>=0.12.4->llama-index-llms-ollama) (2024.11.6)\n",
      "Requirement already satisfied: annotated-types>=0.6.0 in /Users/denesh/Desktop/IIT-Chicago/Sem-3/SPM/VirtualLabs/Lab_4/venv_lab_4/lib/python3.12/site-packages (from pydantic>=2.8.0->llama-index-core<0.13.0,>=0.12.4->llama-index-llms-ollama) (0.7.0)\n",
      "Requirement already satisfied: pydantic-core==2.27.2 in /Users/denesh/Desktop/IIT-Chicago/Sem-3/SPM/VirtualLabs/Lab_4/venv_lab_4/lib/python3.12/site-packages (from pydantic>=2.8.0->llama-index-core<0.13.0,>=0.12.4->llama-index-llms-ollama) (2.27.2)\n",
      "Requirement already satisfied: charset-normalizer<4,>=2 in /Users/denesh/Desktop/IIT-Chicago/Sem-3/SPM/VirtualLabs/Lab_4/venv_lab_4/lib/python3.12/site-packages (from requests>=2.31.0->llama-index-core<0.13.0,>=0.12.4->llama-index-llms-ollama) (3.4.1)\n",
      "Requirement already satisfied: urllib3<3,>=1.21.1 in /Users/denesh/Desktop/IIT-Chicago/Sem-3/SPM/VirtualLabs/Lab_4/venv_lab_4/lib/python3.12/site-packages (from requests>=2.31.0->llama-index-core<0.13.0,>=0.12.4->llama-index-llms-ollama) (2.3.0)\n",
      "Requirement already satisfied: greenlet!=0.4.17 in /Users/denesh/Desktop/IIT-Chicago/Sem-3/SPM/VirtualLabs/Lab_4/venv_lab_4/lib/python3.12/site-packages (from SQLAlchemy[asyncio]>=1.4.49->llama-index-core<0.13.0,>=0.12.4->llama-index-llms-ollama) (3.1.1)\n",
      "Requirement already satisfied: mypy-extensions>=0.3.0 in /Users/denesh/Desktop/IIT-Chicago/Sem-3/SPM/VirtualLabs/Lab_4/venv_lab_4/lib/python3.12/site-packages (from typing-inspect>=0.8.0->llama-index-core<0.13.0,>=0.12.4->llama-index-llms-ollama) (1.0.0)\n",
      "Requirement already satisfied: marshmallow<4.0.0,>=3.18.0 in /Users/denesh/Desktop/IIT-Chicago/Sem-3/SPM/VirtualLabs/Lab_4/venv_lab_4/lib/python3.12/site-packages (from dataclasses-json->llama-index-core<0.13.0,>=0.12.4->llama-index-llms-ollama) (3.26.1)\n",
      "Requirement already satisfied: packaging>=17.0 in /Users/denesh/Desktop/IIT-Chicago/Sem-3/SPM/VirtualLabs/Lab_4/venv_lab_4/lib/python3.12/site-packages (from marshmallow<4.0.0,>=3.18.0->dataclasses-json->llama-index-core<0.13.0,>=0.12.4->llama-index-llms-ollama) (24.2)\n",
      "Requirement already satisfied: sniffio>=1.1 in /Users/denesh/Desktop/IIT-Chicago/Sem-3/SPM/VirtualLabs/Lab_4/venv_lab_4/lib/python3.12/site-packages (from anyio->httpx->llama-index-core<0.13.0,>=0.12.4->llama-index-llms-ollama) (1.3.1)\n",
      "Requirement already satisfied: llama-index-llms-replicate in /Users/denesh/Desktop/IIT-Chicago/Sem-3/SPM/VirtualLabs/Lab_4/venv_lab_4/lib/python3.12/site-packages (0.4.0)\n",
      "Requirement already satisfied: llama-index-core<0.13.0,>=0.12.0 in /Users/denesh/Desktop/IIT-Chicago/Sem-3/SPM/VirtualLabs/Lab_4/venv_lab_4/lib/python3.12/site-packages (from llama-index-llms-replicate) (0.12.22)\n",
      "Requirement already satisfied: PyYAML>=6.0.1 in /Users/denesh/Desktop/IIT-Chicago/Sem-3/SPM/VirtualLabs/Lab_4/venv_lab_4/lib/python3.12/site-packages (from llama-index-core<0.13.0,>=0.12.0->llama-index-llms-replicate) (6.0.2)\n",
      "Requirement already satisfied: SQLAlchemy>=1.4.49 in /Users/denesh/Desktop/IIT-Chicago/Sem-3/SPM/VirtualLabs/Lab_4/venv_lab_4/lib/python3.12/site-packages (from SQLAlchemy[asyncio]>=1.4.49->llama-index-core<0.13.0,>=0.12.0->llama-index-llms-replicate) (2.0.38)\n",
      "Requirement already satisfied: aiohttp<4.0.0,>=3.8.6 in /Users/denesh/Desktop/IIT-Chicago/Sem-3/SPM/VirtualLabs/Lab_4/venv_lab_4/lib/python3.12/site-packages (from llama-index-core<0.13.0,>=0.12.0->llama-index-llms-replicate) (3.11.13)\n",
      "Requirement already satisfied: dataclasses-json in /Users/denesh/Desktop/IIT-Chicago/Sem-3/SPM/VirtualLabs/Lab_4/venv_lab_4/lib/python3.12/site-packages (from llama-index-core<0.13.0,>=0.12.0->llama-index-llms-replicate) (0.6.7)\n",
      "Requirement already satisfied: deprecated>=1.2.9.3 in /Users/denesh/Desktop/IIT-Chicago/Sem-3/SPM/VirtualLabs/Lab_4/venv_lab_4/lib/python3.12/site-packages (from llama-index-core<0.13.0,>=0.12.0->llama-index-llms-replicate) (1.2.18)\n",
      "Requirement already satisfied: dirtyjson<2.0.0,>=1.0.8 in /Users/denesh/Desktop/IIT-Chicago/Sem-3/SPM/VirtualLabs/Lab_4/venv_lab_4/lib/python3.12/site-packages (from llama-index-core<0.13.0,>=0.12.0->llama-index-llms-replicate) (1.0.8)\n",
      "Requirement already satisfied: filetype<2.0.0,>=1.2.0 in /Users/denesh/Desktop/IIT-Chicago/Sem-3/SPM/VirtualLabs/Lab_4/venv_lab_4/lib/python3.12/site-packages (from llama-index-core<0.13.0,>=0.12.0->llama-index-llms-replicate) (1.2.0)\n",
      "Requirement already satisfied: fsspec>=2023.5.0 in /Users/denesh/Desktop/IIT-Chicago/Sem-3/SPM/VirtualLabs/Lab_4/venv_lab_4/lib/python3.12/site-packages (from llama-index-core<0.13.0,>=0.12.0->llama-index-llms-replicate) (2025.2.0)\n",
      "Requirement already satisfied: httpx in /Users/denesh/Desktop/IIT-Chicago/Sem-3/SPM/VirtualLabs/Lab_4/venv_lab_4/lib/python3.12/site-packages (from llama-index-core<0.13.0,>=0.12.0->llama-index-llms-replicate) (0.28.1)\n",
      "Requirement already satisfied: nest-asyncio<2.0.0,>=1.5.8 in /Users/denesh/Desktop/IIT-Chicago/Sem-3/SPM/VirtualLabs/Lab_4/venv_lab_4/lib/python3.12/site-packages (from llama-index-core<0.13.0,>=0.12.0->llama-index-llms-replicate) (1.6.0)\n",
      "Requirement already satisfied: networkx>=3.0 in /Users/denesh/Desktop/IIT-Chicago/Sem-3/SPM/VirtualLabs/Lab_4/venv_lab_4/lib/python3.12/site-packages (from llama-index-core<0.13.0,>=0.12.0->llama-index-llms-replicate) (3.4.2)\n",
      "Requirement already satisfied: nltk>3.8.1 in /Users/denesh/Desktop/IIT-Chicago/Sem-3/SPM/VirtualLabs/Lab_4/venv_lab_4/lib/python3.12/site-packages (from llama-index-core<0.13.0,>=0.12.0->llama-index-llms-replicate) (3.9.1)\n",
      "Requirement already satisfied: numpy in /Users/denesh/Desktop/IIT-Chicago/Sem-3/SPM/VirtualLabs/Lab_4/venv_lab_4/lib/python3.12/site-packages (from llama-index-core<0.13.0,>=0.12.0->llama-index-llms-replicate) (2.2.3)\n",
      "Requirement already satisfied: pillow>=9.0.0 in /Users/denesh/Desktop/IIT-Chicago/Sem-3/SPM/VirtualLabs/Lab_4/venv_lab_4/lib/python3.12/site-packages (from llama-index-core<0.13.0,>=0.12.0->llama-index-llms-replicate) (11.1.0)\n",
      "Requirement already satisfied: pydantic>=2.8.0 in /Users/denesh/Desktop/IIT-Chicago/Sem-3/SPM/VirtualLabs/Lab_4/venv_lab_4/lib/python3.12/site-packages (from llama-index-core<0.13.0,>=0.12.0->llama-index-llms-replicate) (2.10.6)\n",
      "Requirement already satisfied: requests>=2.31.0 in /Users/denesh/Desktop/IIT-Chicago/Sem-3/SPM/VirtualLabs/Lab_4/venv_lab_4/lib/python3.12/site-packages (from llama-index-core<0.13.0,>=0.12.0->llama-index-llms-replicate) (2.32.3)\n",
      "Requirement already satisfied: tenacity!=8.4.0,<10.0.0,>=8.2.0 in /Users/denesh/Desktop/IIT-Chicago/Sem-3/SPM/VirtualLabs/Lab_4/venv_lab_4/lib/python3.12/site-packages (from llama-index-core<0.13.0,>=0.12.0->llama-index-llms-replicate) (9.0.0)\n",
      "Requirement already satisfied: tiktoken>=0.3.3 in /Users/denesh/Desktop/IIT-Chicago/Sem-3/SPM/VirtualLabs/Lab_4/venv_lab_4/lib/python3.12/site-packages (from llama-index-core<0.13.0,>=0.12.0->llama-index-llms-replicate) (0.9.0)\n",
      "Requirement already satisfied: tqdm<5.0.0,>=4.66.1 in /Users/denesh/Desktop/IIT-Chicago/Sem-3/SPM/VirtualLabs/Lab_4/venv_lab_4/lib/python3.12/site-packages (from llama-index-core<0.13.0,>=0.12.0->llama-index-llms-replicate) (4.67.1)\n",
      "Requirement already satisfied: typing-extensions>=4.5.0 in /Users/denesh/Desktop/IIT-Chicago/Sem-3/SPM/VirtualLabs/Lab_4/venv_lab_4/lib/python3.12/site-packages (from llama-index-core<0.13.0,>=0.12.0->llama-index-llms-replicate) (4.12.2)\n",
      "Requirement already satisfied: typing-inspect>=0.8.0 in /Users/denesh/Desktop/IIT-Chicago/Sem-3/SPM/VirtualLabs/Lab_4/venv_lab_4/lib/python3.12/site-packages (from llama-index-core<0.13.0,>=0.12.0->llama-index-llms-replicate) (0.9.0)\n",
      "Requirement already satisfied: wrapt in /Users/denesh/Desktop/IIT-Chicago/Sem-3/SPM/VirtualLabs/Lab_4/venv_lab_4/lib/python3.12/site-packages (from llama-index-core<0.13.0,>=0.12.0->llama-index-llms-replicate) (1.17.2)\n",
      "Requirement already satisfied: aiohappyeyeballs>=2.3.0 in /Users/denesh/Desktop/IIT-Chicago/Sem-3/SPM/VirtualLabs/Lab_4/venv_lab_4/lib/python3.12/site-packages (from aiohttp<4.0.0,>=3.8.6->llama-index-core<0.13.0,>=0.12.0->llama-index-llms-replicate) (2.4.6)\n",
      "Requirement already satisfied: aiosignal>=1.1.2 in /Users/denesh/Desktop/IIT-Chicago/Sem-3/SPM/VirtualLabs/Lab_4/venv_lab_4/lib/python3.12/site-packages (from aiohttp<4.0.0,>=3.8.6->llama-index-core<0.13.0,>=0.12.0->llama-index-llms-replicate) (1.3.2)\n",
      "Requirement already satisfied: attrs>=17.3.0 in /Users/denesh/Desktop/IIT-Chicago/Sem-3/SPM/VirtualLabs/Lab_4/venv_lab_4/lib/python3.12/site-packages (from aiohttp<4.0.0,>=3.8.6->llama-index-core<0.13.0,>=0.12.0->llama-index-llms-replicate) (25.1.0)\n",
      "Requirement already satisfied: frozenlist>=1.1.1 in /Users/denesh/Desktop/IIT-Chicago/Sem-3/SPM/VirtualLabs/Lab_4/venv_lab_4/lib/python3.12/site-packages (from aiohttp<4.0.0,>=3.8.6->llama-index-core<0.13.0,>=0.12.0->llama-index-llms-replicate) (1.5.0)\n",
      "Requirement already satisfied: multidict<7.0,>=4.5 in /Users/denesh/Desktop/IIT-Chicago/Sem-3/SPM/VirtualLabs/Lab_4/venv_lab_4/lib/python3.12/site-packages (from aiohttp<4.0.0,>=3.8.6->llama-index-core<0.13.0,>=0.12.0->llama-index-llms-replicate) (6.1.0)\n",
      "Requirement already satisfied: propcache>=0.2.0 in /Users/denesh/Desktop/IIT-Chicago/Sem-3/SPM/VirtualLabs/Lab_4/venv_lab_4/lib/python3.12/site-packages (from aiohttp<4.0.0,>=3.8.6->llama-index-core<0.13.0,>=0.12.0->llama-index-llms-replicate) (0.3.0)\n",
      "Requirement already satisfied: yarl<2.0,>=1.17.0 in /Users/denesh/Desktop/IIT-Chicago/Sem-3/SPM/VirtualLabs/Lab_4/venv_lab_4/lib/python3.12/site-packages (from aiohttp<4.0.0,>=3.8.6->llama-index-core<0.13.0,>=0.12.0->llama-index-llms-replicate) (1.18.3)\n",
      "Requirement already satisfied: click in /Users/denesh/Desktop/IIT-Chicago/Sem-3/SPM/VirtualLabs/Lab_4/venv_lab_4/lib/python3.12/site-packages (from nltk>3.8.1->llama-index-core<0.13.0,>=0.12.0->llama-index-llms-replicate) (8.1.8)\n",
      "Requirement already satisfied: joblib in /Users/denesh/Desktop/IIT-Chicago/Sem-3/SPM/VirtualLabs/Lab_4/venv_lab_4/lib/python3.12/site-packages (from nltk>3.8.1->llama-index-core<0.13.0,>=0.12.0->llama-index-llms-replicate) (1.4.2)\n",
      "Requirement already satisfied: regex>=2021.8.3 in /Users/denesh/Desktop/IIT-Chicago/Sem-3/SPM/VirtualLabs/Lab_4/venv_lab_4/lib/python3.12/site-packages (from nltk>3.8.1->llama-index-core<0.13.0,>=0.12.0->llama-index-llms-replicate) (2024.11.6)\n",
      "Requirement already satisfied: annotated-types>=0.6.0 in /Users/denesh/Desktop/IIT-Chicago/Sem-3/SPM/VirtualLabs/Lab_4/venv_lab_4/lib/python3.12/site-packages (from pydantic>=2.8.0->llama-index-core<0.13.0,>=0.12.0->llama-index-llms-replicate) (0.7.0)\n",
      "Requirement already satisfied: pydantic-core==2.27.2 in /Users/denesh/Desktop/IIT-Chicago/Sem-3/SPM/VirtualLabs/Lab_4/venv_lab_4/lib/python3.12/site-packages (from pydantic>=2.8.0->llama-index-core<0.13.0,>=0.12.0->llama-index-llms-replicate) (2.27.2)\n",
      "Requirement already satisfied: charset-normalizer<4,>=2 in /Users/denesh/Desktop/IIT-Chicago/Sem-3/SPM/VirtualLabs/Lab_4/venv_lab_4/lib/python3.12/site-packages (from requests>=2.31.0->llama-index-core<0.13.0,>=0.12.0->llama-index-llms-replicate) (3.4.1)\n",
      "Requirement already satisfied: idna<4,>=2.5 in /Users/denesh/Desktop/IIT-Chicago/Sem-3/SPM/VirtualLabs/Lab_4/venv_lab_4/lib/python3.12/site-packages (from requests>=2.31.0->llama-index-core<0.13.0,>=0.12.0->llama-index-llms-replicate) (3.10)\n",
      "Requirement already satisfied: urllib3<3,>=1.21.1 in /Users/denesh/Desktop/IIT-Chicago/Sem-3/SPM/VirtualLabs/Lab_4/venv_lab_4/lib/python3.12/site-packages (from requests>=2.31.0->llama-index-core<0.13.0,>=0.12.0->llama-index-llms-replicate) (2.3.0)\n",
      "Requirement already satisfied: certifi>=2017.4.17 in /Users/denesh/Desktop/IIT-Chicago/Sem-3/SPM/VirtualLabs/Lab_4/venv_lab_4/lib/python3.12/site-packages (from requests>=2.31.0->llama-index-core<0.13.0,>=0.12.0->llama-index-llms-replicate) (2025.1.31)\n",
      "Requirement already satisfied: greenlet!=0.4.17 in /Users/denesh/Desktop/IIT-Chicago/Sem-3/SPM/VirtualLabs/Lab_4/venv_lab_4/lib/python3.12/site-packages (from SQLAlchemy[asyncio]>=1.4.49->llama-index-core<0.13.0,>=0.12.0->llama-index-llms-replicate) (3.1.1)\n",
      "Requirement already satisfied: mypy-extensions>=0.3.0 in /Users/denesh/Desktop/IIT-Chicago/Sem-3/SPM/VirtualLabs/Lab_4/venv_lab_4/lib/python3.12/site-packages (from typing-inspect>=0.8.0->llama-index-core<0.13.0,>=0.12.0->llama-index-llms-replicate) (1.0.0)\n",
      "Requirement already satisfied: marshmallow<4.0.0,>=3.18.0 in /Users/denesh/Desktop/IIT-Chicago/Sem-3/SPM/VirtualLabs/Lab_4/venv_lab_4/lib/python3.12/site-packages (from dataclasses-json->llama-index-core<0.13.0,>=0.12.0->llama-index-llms-replicate) (3.26.1)\n",
      "Requirement already satisfied: anyio in /Users/denesh/Desktop/IIT-Chicago/Sem-3/SPM/VirtualLabs/Lab_4/venv_lab_4/lib/python3.12/site-packages (from httpx->llama-index-core<0.13.0,>=0.12.0->llama-index-llms-replicate) (4.8.0)\n",
      "Requirement already satisfied: httpcore==1.* in /Users/denesh/Desktop/IIT-Chicago/Sem-3/SPM/VirtualLabs/Lab_4/venv_lab_4/lib/python3.12/site-packages (from httpx->llama-index-core<0.13.0,>=0.12.0->llama-index-llms-replicate) (1.0.7)\n",
      "Requirement already satisfied: h11<0.15,>=0.13 in /Users/denesh/Desktop/IIT-Chicago/Sem-3/SPM/VirtualLabs/Lab_4/venv_lab_4/lib/python3.12/site-packages (from httpcore==1.*->httpx->llama-index-core<0.13.0,>=0.12.0->llama-index-llms-replicate) (0.14.0)\n",
      "Requirement already satisfied: packaging>=17.0 in /Users/denesh/Desktop/IIT-Chicago/Sem-3/SPM/VirtualLabs/Lab_4/venv_lab_4/lib/python3.12/site-packages (from marshmallow<4.0.0,>=3.18.0->dataclasses-json->llama-index-core<0.13.0,>=0.12.0->llama-index-llms-replicate) (24.2)\n",
      "Requirement already satisfied: sniffio>=1.1 in /Users/denesh/Desktop/IIT-Chicago/Sem-3/SPM/VirtualLabs/Lab_4/venv_lab_4/lib/python3.12/site-packages (from anyio->httpx->llama-index-core<0.13.0,>=0.12.0->llama-index-llms-replicate) (1.3.1)\n",
      "Requirement already satisfied: llama-index-embeddings-huggingface in /Users/denesh/Desktop/IIT-Chicago/Sem-3/SPM/VirtualLabs/Lab_4/venv_lab_4/lib/python3.12/site-packages (0.5.2)\n",
      "Requirement already satisfied: huggingface-hub>=0.19.0 in /Users/denesh/Desktop/IIT-Chicago/Sem-3/SPM/VirtualLabs/Lab_4/venv_lab_4/lib/python3.12/site-packages (from huggingface-hub[inference]>=0.19.0->llama-index-embeddings-huggingface) (0.29.1)\n",
      "Requirement already satisfied: llama-index-core<0.13.0,>=0.12.0 in /Users/denesh/Desktop/IIT-Chicago/Sem-3/SPM/VirtualLabs/Lab_4/venv_lab_4/lib/python3.12/site-packages (from llama-index-embeddings-huggingface) (0.12.22)\n",
      "Requirement already satisfied: sentence-transformers>=2.6.1 in /Users/denesh/Desktop/IIT-Chicago/Sem-3/SPM/VirtualLabs/Lab_4/venv_lab_4/lib/python3.12/site-packages (from llama-index-embeddings-huggingface) (3.4.1)\n",
      "Requirement already satisfied: filelock in /Users/denesh/Desktop/IIT-Chicago/Sem-3/SPM/VirtualLabs/Lab_4/venv_lab_4/lib/python3.12/site-packages (from huggingface-hub>=0.19.0->huggingface-hub[inference]>=0.19.0->llama-index-embeddings-huggingface) (3.17.0)\n",
      "Requirement already satisfied: fsspec>=2023.5.0 in /Users/denesh/Desktop/IIT-Chicago/Sem-3/SPM/VirtualLabs/Lab_4/venv_lab_4/lib/python3.12/site-packages (from huggingface-hub>=0.19.0->huggingface-hub[inference]>=0.19.0->llama-index-embeddings-huggingface) (2025.2.0)\n",
      "Requirement already satisfied: packaging>=20.9 in /Users/denesh/Desktop/IIT-Chicago/Sem-3/SPM/VirtualLabs/Lab_4/venv_lab_4/lib/python3.12/site-packages (from huggingface-hub>=0.19.0->huggingface-hub[inference]>=0.19.0->llama-index-embeddings-huggingface) (24.2)\n",
      "Requirement already satisfied: pyyaml>=5.1 in /Users/denesh/Desktop/IIT-Chicago/Sem-3/SPM/VirtualLabs/Lab_4/venv_lab_4/lib/python3.12/site-packages (from huggingface-hub>=0.19.0->huggingface-hub[inference]>=0.19.0->llama-index-embeddings-huggingface) (6.0.2)\n",
      "Requirement already satisfied: requests in /Users/denesh/Desktop/IIT-Chicago/Sem-3/SPM/VirtualLabs/Lab_4/venv_lab_4/lib/python3.12/site-packages (from huggingface-hub>=0.19.0->huggingface-hub[inference]>=0.19.0->llama-index-embeddings-huggingface) (2.32.3)\n",
      "Requirement already satisfied: tqdm>=4.42.1 in /Users/denesh/Desktop/IIT-Chicago/Sem-3/SPM/VirtualLabs/Lab_4/venv_lab_4/lib/python3.12/site-packages (from huggingface-hub>=0.19.0->huggingface-hub[inference]>=0.19.0->llama-index-embeddings-huggingface) (4.67.1)\n",
      "Requirement already satisfied: typing-extensions>=3.7.4.3 in /Users/denesh/Desktop/IIT-Chicago/Sem-3/SPM/VirtualLabs/Lab_4/venv_lab_4/lib/python3.12/site-packages (from huggingface-hub>=0.19.0->huggingface-hub[inference]>=0.19.0->llama-index-embeddings-huggingface) (4.12.2)\n",
      "Requirement already satisfied: aiohttp in /Users/denesh/Desktop/IIT-Chicago/Sem-3/SPM/VirtualLabs/Lab_4/venv_lab_4/lib/python3.12/site-packages (from huggingface-hub[inference]>=0.19.0->llama-index-embeddings-huggingface) (3.11.13)\n",
      "Requirement already satisfied: SQLAlchemy>=1.4.49 in /Users/denesh/Desktop/IIT-Chicago/Sem-3/SPM/VirtualLabs/Lab_4/venv_lab_4/lib/python3.12/site-packages (from SQLAlchemy[asyncio]>=1.4.49->llama-index-core<0.13.0,>=0.12.0->llama-index-embeddings-huggingface) (2.0.38)\n",
      "Requirement already satisfied: dataclasses-json in /Users/denesh/Desktop/IIT-Chicago/Sem-3/SPM/VirtualLabs/Lab_4/venv_lab_4/lib/python3.12/site-packages (from llama-index-core<0.13.0,>=0.12.0->llama-index-embeddings-huggingface) (0.6.7)\n",
      "Requirement already satisfied: deprecated>=1.2.9.3 in /Users/denesh/Desktop/IIT-Chicago/Sem-3/SPM/VirtualLabs/Lab_4/venv_lab_4/lib/python3.12/site-packages (from llama-index-core<0.13.0,>=0.12.0->llama-index-embeddings-huggingface) (1.2.18)\n",
      "Requirement already satisfied: dirtyjson<2.0.0,>=1.0.8 in /Users/denesh/Desktop/IIT-Chicago/Sem-3/SPM/VirtualLabs/Lab_4/venv_lab_4/lib/python3.12/site-packages (from llama-index-core<0.13.0,>=0.12.0->llama-index-embeddings-huggingface) (1.0.8)\n",
      "Requirement already satisfied: filetype<2.0.0,>=1.2.0 in /Users/denesh/Desktop/IIT-Chicago/Sem-3/SPM/VirtualLabs/Lab_4/venv_lab_4/lib/python3.12/site-packages (from llama-index-core<0.13.0,>=0.12.0->llama-index-embeddings-huggingface) (1.2.0)\n",
      "Requirement already satisfied: httpx in /Users/denesh/Desktop/IIT-Chicago/Sem-3/SPM/VirtualLabs/Lab_4/venv_lab_4/lib/python3.12/site-packages (from llama-index-core<0.13.0,>=0.12.0->llama-index-embeddings-huggingface) (0.28.1)\n",
      "Requirement already satisfied: nest-asyncio<2.0.0,>=1.5.8 in /Users/denesh/Desktop/IIT-Chicago/Sem-3/SPM/VirtualLabs/Lab_4/venv_lab_4/lib/python3.12/site-packages (from llama-index-core<0.13.0,>=0.12.0->llama-index-embeddings-huggingface) (1.6.0)\n",
      "Requirement already satisfied: networkx>=3.0 in /Users/denesh/Desktop/IIT-Chicago/Sem-3/SPM/VirtualLabs/Lab_4/venv_lab_4/lib/python3.12/site-packages (from llama-index-core<0.13.0,>=0.12.0->llama-index-embeddings-huggingface) (3.4.2)\n",
      "Requirement already satisfied: nltk>3.8.1 in /Users/denesh/Desktop/IIT-Chicago/Sem-3/SPM/VirtualLabs/Lab_4/venv_lab_4/lib/python3.12/site-packages (from llama-index-core<0.13.0,>=0.12.0->llama-index-embeddings-huggingface) (3.9.1)\n",
      "Requirement already satisfied: numpy in /Users/denesh/Desktop/IIT-Chicago/Sem-3/SPM/VirtualLabs/Lab_4/venv_lab_4/lib/python3.12/site-packages (from llama-index-core<0.13.0,>=0.12.0->llama-index-embeddings-huggingface) (2.2.3)\n",
      "Requirement already satisfied: pillow>=9.0.0 in /Users/denesh/Desktop/IIT-Chicago/Sem-3/SPM/VirtualLabs/Lab_4/venv_lab_4/lib/python3.12/site-packages (from llama-index-core<0.13.0,>=0.12.0->llama-index-embeddings-huggingface) (11.1.0)\n",
      "Requirement already satisfied: pydantic>=2.8.0 in /Users/denesh/Desktop/IIT-Chicago/Sem-3/SPM/VirtualLabs/Lab_4/venv_lab_4/lib/python3.12/site-packages (from llama-index-core<0.13.0,>=0.12.0->llama-index-embeddings-huggingface) (2.10.6)\n",
      "Requirement already satisfied: tenacity!=8.4.0,<10.0.0,>=8.2.0 in /Users/denesh/Desktop/IIT-Chicago/Sem-3/SPM/VirtualLabs/Lab_4/venv_lab_4/lib/python3.12/site-packages (from llama-index-core<0.13.0,>=0.12.0->llama-index-embeddings-huggingface) (9.0.0)\n",
      "Requirement already satisfied: tiktoken>=0.3.3 in /Users/denesh/Desktop/IIT-Chicago/Sem-3/SPM/VirtualLabs/Lab_4/venv_lab_4/lib/python3.12/site-packages (from llama-index-core<0.13.0,>=0.12.0->llama-index-embeddings-huggingface) (0.9.0)\n",
      "Requirement already satisfied: typing-inspect>=0.8.0 in /Users/denesh/Desktop/IIT-Chicago/Sem-3/SPM/VirtualLabs/Lab_4/venv_lab_4/lib/python3.12/site-packages (from llama-index-core<0.13.0,>=0.12.0->llama-index-embeddings-huggingface) (0.9.0)\n",
      "Requirement already satisfied: wrapt in /Users/denesh/Desktop/IIT-Chicago/Sem-3/SPM/VirtualLabs/Lab_4/venv_lab_4/lib/python3.12/site-packages (from llama-index-core<0.13.0,>=0.12.0->llama-index-embeddings-huggingface) (1.17.2)\n",
      "Requirement already satisfied: transformers<5.0.0,>=4.41.0 in /Users/denesh/Desktop/IIT-Chicago/Sem-3/SPM/VirtualLabs/Lab_4/venv_lab_4/lib/python3.12/site-packages (from sentence-transformers>=2.6.1->llama-index-embeddings-huggingface) (4.49.0)\n",
      "Requirement already satisfied: torch>=1.11.0 in /Users/denesh/Desktop/IIT-Chicago/Sem-3/SPM/VirtualLabs/Lab_4/venv_lab_4/lib/python3.12/site-packages (from sentence-transformers>=2.6.1->llama-index-embeddings-huggingface) (2.6.0)\n",
      "Requirement already satisfied: scikit-learn in /Users/denesh/Desktop/IIT-Chicago/Sem-3/SPM/VirtualLabs/Lab_4/venv_lab_4/lib/python3.12/site-packages (from sentence-transformers>=2.6.1->llama-index-embeddings-huggingface) (1.6.1)\n",
      "Requirement already satisfied: scipy in /Users/denesh/Desktop/IIT-Chicago/Sem-3/SPM/VirtualLabs/Lab_4/venv_lab_4/lib/python3.12/site-packages (from sentence-transformers>=2.6.1->llama-index-embeddings-huggingface) (1.15.2)\n",
      "Requirement already satisfied: aiohappyeyeballs>=2.3.0 in /Users/denesh/Desktop/IIT-Chicago/Sem-3/SPM/VirtualLabs/Lab_4/venv_lab_4/lib/python3.12/site-packages (from aiohttp->huggingface-hub[inference]>=0.19.0->llama-index-embeddings-huggingface) (2.4.6)\n",
      "Requirement already satisfied: aiosignal>=1.1.2 in /Users/denesh/Desktop/IIT-Chicago/Sem-3/SPM/VirtualLabs/Lab_4/venv_lab_4/lib/python3.12/site-packages (from aiohttp->huggingface-hub[inference]>=0.19.0->llama-index-embeddings-huggingface) (1.3.2)\n",
      "Requirement already satisfied: attrs>=17.3.0 in /Users/denesh/Desktop/IIT-Chicago/Sem-3/SPM/VirtualLabs/Lab_4/venv_lab_4/lib/python3.12/site-packages (from aiohttp->huggingface-hub[inference]>=0.19.0->llama-index-embeddings-huggingface) (25.1.0)\n",
      "Requirement already satisfied: frozenlist>=1.1.1 in /Users/denesh/Desktop/IIT-Chicago/Sem-3/SPM/VirtualLabs/Lab_4/venv_lab_4/lib/python3.12/site-packages (from aiohttp->huggingface-hub[inference]>=0.19.0->llama-index-embeddings-huggingface) (1.5.0)\n",
      "Requirement already satisfied: multidict<7.0,>=4.5 in /Users/denesh/Desktop/IIT-Chicago/Sem-3/SPM/VirtualLabs/Lab_4/venv_lab_4/lib/python3.12/site-packages (from aiohttp->huggingface-hub[inference]>=0.19.0->llama-index-embeddings-huggingface) (6.1.0)\n",
      "Requirement already satisfied: propcache>=0.2.0 in /Users/denesh/Desktop/IIT-Chicago/Sem-3/SPM/VirtualLabs/Lab_4/venv_lab_4/lib/python3.12/site-packages (from aiohttp->huggingface-hub[inference]>=0.19.0->llama-index-embeddings-huggingface) (0.3.0)\n",
      "Requirement already satisfied: yarl<2.0,>=1.17.0 in /Users/denesh/Desktop/IIT-Chicago/Sem-3/SPM/VirtualLabs/Lab_4/venv_lab_4/lib/python3.12/site-packages (from aiohttp->huggingface-hub[inference]>=0.19.0->llama-index-embeddings-huggingface) (1.18.3)\n",
      "Requirement already satisfied: click in /Users/denesh/Desktop/IIT-Chicago/Sem-3/SPM/VirtualLabs/Lab_4/venv_lab_4/lib/python3.12/site-packages (from nltk>3.8.1->llama-index-core<0.13.0,>=0.12.0->llama-index-embeddings-huggingface) (8.1.8)\n",
      "Requirement already satisfied: joblib in /Users/denesh/Desktop/IIT-Chicago/Sem-3/SPM/VirtualLabs/Lab_4/venv_lab_4/lib/python3.12/site-packages (from nltk>3.8.1->llama-index-core<0.13.0,>=0.12.0->llama-index-embeddings-huggingface) (1.4.2)\n",
      "Requirement already satisfied: regex>=2021.8.3 in /Users/denesh/Desktop/IIT-Chicago/Sem-3/SPM/VirtualLabs/Lab_4/venv_lab_4/lib/python3.12/site-packages (from nltk>3.8.1->llama-index-core<0.13.0,>=0.12.0->llama-index-embeddings-huggingface) (2024.11.6)\n",
      "Requirement already satisfied: annotated-types>=0.6.0 in /Users/denesh/Desktop/IIT-Chicago/Sem-3/SPM/VirtualLabs/Lab_4/venv_lab_4/lib/python3.12/site-packages (from pydantic>=2.8.0->llama-index-core<0.13.0,>=0.12.0->llama-index-embeddings-huggingface) (0.7.0)\n",
      "Requirement already satisfied: pydantic-core==2.27.2 in /Users/denesh/Desktop/IIT-Chicago/Sem-3/SPM/VirtualLabs/Lab_4/venv_lab_4/lib/python3.12/site-packages (from pydantic>=2.8.0->llama-index-core<0.13.0,>=0.12.0->llama-index-embeddings-huggingface) (2.27.2)\n",
      "Requirement already satisfied: charset-normalizer<4,>=2 in /Users/denesh/Desktop/IIT-Chicago/Sem-3/SPM/VirtualLabs/Lab_4/venv_lab_4/lib/python3.12/site-packages (from requests->huggingface-hub>=0.19.0->huggingface-hub[inference]>=0.19.0->llama-index-embeddings-huggingface) (3.4.1)\n",
      "Requirement already satisfied: idna<4,>=2.5 in /Users/denesh/Desktop/IIT-Chicago/Sem-3/SPM/VirtualLabs/Lab_4/venv_lab_4/lib/python3.12/site-packages (from requests->huggingface-hub>=0.19.0->huggingface-hub[inference]>=0.19.0->llama-index-embeddings-huggingface) (3.10)\n",
      "Requirement already satisfied: urllib3<3,>=1.21.1 in /Users/denesh/Desktop/IIT-Chicago/Sem-3/SPM/VirtualLabs/Lab_4/venv_lab_4/lib/python3.12/site-packages (from requests->huggingface-hub>=0.19.0->huggingface-hub[inference]>=0.19.0->llama-index-embeddings-huggingface) (2.3.0)\n",
      "Requirement already satisfied: certifi>=2017.4.17 in /Users/denesh/Desktop/IIT-Chicago/Sem-3/SPM/VirtualLabs/Lab_4/venv_lab_4/lib/python3.12/site-packages (from requests->huggingface-hub>=0.19.0->huggingface-hub[inference]>=0.19.0->llama-index-embeddings-huggingface) (2025.1.31)\n",
      "Requirement already satisfied: greenlet!=0.4.17 in /Users/denesh/Desktop/IIT-Chicago/Sem-3/SPM/VirtualLabs/Lab_4/venv_lab_4/lib/python3.12/site-packages (from SQLAlchemy[asyncio]>=1.4.49->llama-index-core<0.13.0,>=0.12.0->llama-index-embeddings-huggingface) (3.1.1)\n",
      "Requirement already satisfied: jinja2 in /Users/denesh/Desktop/IIT-Chicago/Sem-3/SPM/VirtualLabs/Lab_4/venv_lab_4/lib/python3.12/site-packages (from torch>=1.11.0->sentence-transformers>=2.6.1->llama-index-embeddings-huggingface) (3.1.5)\n",
      "Requirement already satisfied: setuptools in /Users/denesh/Desktop/IIT-Chicago/Sem-3/SPM/VirtualLabs/Lab_4/venv_lab_4/lib/python3.12/site-packages (from torch>=1.11.0->sentence-transformers>=2.6.1->llama-index-embeddings-huggingface) (75.8.2)\n",
      "Requirement already satisfied: sympy==1.13.1 in /Users/denesh/Desktop/IIT-Chicago/Sem-3/SPM/VirtualLabs/Lab_4/venv_lab_4/lib/python3.12/site-packages (from torch>=1.11.0->sentence-transformers>=2.6.1->llama-index-embeddings-huggingface) (1.13.1)\n",
      "Requirement already satisfied: mpmath<1.4,>=1.1.0 in /Users/denesh/Desktop/IIT-Chicago/Sem-3/SPM/VirtualLabs/Lab_4/venv_lab_4/lib/python3.12/site-packages (from sympy==1.13.1->torch>=1.11.0->sentence-transformers>=2.6.1->llama-index-embeddings-huggingface) (1.3.0)\n",
      "Requirement already satisfied: tokenizers<0.22,>=0.21 in /Users/denesh/Desktop/IIT-Chicago/Sem-3/SPM/VirtualLabs/Lab_4/venv_lab_4/lib/python3.12/site-packages (from transformers<5.0.0,>=4.41.0->sentence-transformers>=2.6.1->llama-index-embeddings-huggingface) (0.21.0)\n",
      "Requirement already satisfied: safetensors>=0.4.1 in /Users/denesh/Desktop/IIT-Chicago/Sem-3/SPM/VirtualLabs/Lab_4/venv_lab_4/lib/python3.12/site-packages (from transformers<5.0.0,>=4.41.0->sentence-transformers>=2.6.1->llama-index-embeddings-huggingface) (0.5.3)\n",
      "Requirement already satisfied: mypy-extensions>=0.3.0 in /Users/denesh/Desktop/IIT-Chicago/Sem-3/SPM/VirtualLabs/Lab_4/venv_lab_4/lib/python3.12/site-packages (from typing-inspect>=0.8.0->llama-index-core<0.13.0,>=0.12.0->llama-index-embeddings-huggingface) (1.0.0)\n",
      "Requirement already satisfied: marshmallow<4.0.0,>=3.18.0 in /Users/denesh/Desktop/IIT-Chicago/Sem-3/SPM/VirtualLabs/Lab_4/venv_lab_4/lib/python3.12/site-packages (from dataclasses-json->llama-index-core<0.13.0,>=0.12.0->llama-index-embeddings-huggingface) (3.26.1)\n",
      "Requirement already satisfied: anyio in /Users/denesh/Desktop/IIT-Chicago/Sem-3/SPM/VirtualLabs/Lab_4/venv_lab_4/lib/python3.12/site-packages (from httpx->llama-index-core<0.13.0,>=0.12.0->llama-index-embeddings-huggingface) (4.8.0)\n",
      "Requirement already satisfied: httpcore==1.* in /Users/denesh/Desktop/IIT-Chicago/Sem-3/SPM/VirtualLabs/Lab_4/venv_lab_4/lib/python3.12/site-packages (from httpx->llama-index-core<0.13.0,>=0.12.0->llama-index-embeddings-huggingface) (1.0.7)\n",
      "Requirement already satisfied: h11<0.15,>=0.13 in /Users/denesh/Desktop/IIT-Chicago/Sem-3/SPM/VirtualLabs/Lab_4/venv_lab_4/lib/python3.12/site-packages (from httpcore==1.*->httpx->llama-index-core<0.13.0,>=0.12.0->llama-index-embeddings-huggingface) (0.14.0)\n",
      "Requirement already satisfied: threadpoolctl>=3.1.0 in /Users/denesh/Desktop/IIT-Chicago/Sem-3/SPM/VirtualLabs/Lab_4/venv_lab_4/lib/python3.12/site-packages (from scikit-learn->sentence-transformers>=2.6.1->llama-index-embeddings-huggingface) (3.5.0)\n",
      "Requirement already satisfied: sniffio>=1.1 in /Users/denesh/Desktop/IIT-Chicago/Sem-3/SPM/VirtualLabs/Lab_4/venv_lab_4/lib/python3.12/site-packages (from anyio->httpx->llama-index-core<0.13.0,>=0.12.0->llama-index-embeddings-huggingface) (1.3.1)\n",
      "Requirement already satisfied: MarkupSafe>=2.0 in /Users/denesh/Desktop/IIT-Chicago/Sem-3/SPM/VirtualLabs/Lab_4/venv_lab_4/lib/python3.12/site-packages (from jinja2->torch>=1.11.0->sentence-transformers>=2.6.1->llama-index-embeddings-huggingface) (3.0.2)\n",
      "Requirement already satisfied: llama-parse in /Users/denesh/Desktop/IIT-Chicago/Sem-3/SPM/VirtualLabs/Lab_4/venv_lab_4/lib/python3.12/site-packages (0.6.2)\n",
      "Requirement already satisfied: llama-cloud-services>=0.6.2 in /Users/denesh/Desktop/IIT-Chicago/Sem-3/SPM/VirtualLabs/Lab_4/venv_lab_4/lib/python3.12/site-packages (from llama-parse) (0.6.3)\n",
      "Requirement already satisfied: click<9.0.0,>=8.1.7 in /Users/denesh/Desktop/IIT-Chicago/Sem-3/SPM/VirtualLabs/Lab_4/venv_lab_4/lib/python3.12/site-packages (from llama-cloud-services>=0.6.2->llama-parse) (8.1.8)\n",
      "Requirement already satisfied: llama-cloud<0.2.0,>=0.1.11 in /Users/denesh/Desktop/IIT-Chicago/Sem-3/SPM/VirtualLabs/Lab_4/venv_lab_4/lib/python3.12/site-packages (from llama-cloud-services>=0.6.2->llama-parse) (0.1.13)\n",
      "Requirement already satisfied: llama-index-core>=0.11.0 in /Users/denesh/Desktop/IIT-Chicago/Sem-3/SPM/VirtualLabs/Lab_4/venv_lab_4/lib/python3.12/site-packages (from llama-cloud-services>=0.6.2->llama-parse) (0.12.22)\n",
      "Requirement already satisfied: pydantic!=2.10 in /Users/denesh/Desktop/IIT-Chicago/Sem-3/SPM/VirtualLabs/Lab_4/venv_lab_4/lib/python3.12/site-packages (from llama-cloud-services>=0.6.2->llama-parse) (2.10.6)\n",
      "Requirement already satisfied: python-dotenv<2.0.0,>=1.0.1 in /Users/denesh/Desktop/IIT-Chicago/Sem-3/SPM/VirtualLabs/Lab_4/venv_lab_4/lib/python3.12/site-packages (from llama-cloud-services>=0.6.2->llama-parse) (1.0.1)\n",
      "Requirement already satisfied: certifi>=2024.7.4 in /Users/denesh/Desktop/IIT-Chicago/Sem-3/SPM/VirtualLabs/Lab_4/venv_lab_4/lib/python3.12/site-packages (from llama-cloud<0.2.0,>=0.1.11->llama-cloud-services>=0.6.2->llama-parse) (2025.1.31)\n",
      "Requirement already satisfied: httpx>=0.20.0 in /Users/denesh/Desktop/IIT-Chicago/Sem-3/SPM/VirtualLabs/Lab_4/venv_lab_4/lib/python3.12/site-packages (from llama-cloud<0.2.0,>=0.1.11->llama-cloud-services>=0.6.2->llama-parse) (0.28.1)\n",
      "Requirement already satisfied: PyYAML>=6.0.1 in /Users/denesh/Desktop/IIT-Chicago/Sem-3/SPM/VirtualLabs/Lab_4/venv_lab_4/lib/python3.12/site-packages (from llama-index-core>=0.11.0->llama-cloud-services>=0.6.2->llama-parse) (6.0.2)\n",
      "Requirement already satisfied: SQLAlchemy>=1.4.49 in /Users/denesh/Desktop/IIT-Chicago/Sem-3/SPM/VirtualLabs/Lab_4/venv_lab_4/lib/python3.12/site-packages (from SQLAlchemy[asyncio]>=1.4.49->llama-index-core>=0.11.0->llama-cloud-services>=0.6.2->llama-parse) (2.0.38)\n",
      "Requirement already satisfied: aiohttp<4.0.0,>=3.8.6 in /Users/denesh/Desktop/IIT-Chicago/Sem-3/SPM/VirtualLabs/Lab_4/venv_lab_4/lib/python3.12/site-packages (from llama-index-core>=0.11.0->llama-cloud-services>=0.6.2->llama-parse) (3.11.13)\n",
      "Requirement already satisfied: dataclasses-json in /Users/denesh/Desktop/IIT-Chicago/Sem-3/SPM/VirtualLabs/Lab_4/venv_lab_4/lib/python3.12/site-packages (from llama-index-core>=0.11.0->llama-cloud-services>=0.6.2->llama-parse) (0.6.7)\n",
      "Requirement already satisfied: deprecated>=1.2.9.3 in /Users/denesh/Desktop/IIT-Chicago/Sem-3/SPM/VirtualLabs/Lab_4/venv_lab_4/lib/python3.12/site-packages (from llama-index-core>=0.11.0->llama-cloud-services>=0.6.2->llama-parse) (1.2.18)\n",
      "Requirement already satisfied: dirtyjson<2.0.0,>=1.0.8 in /Users/denesh/Desktop/IIT-Chicago/Sem-3/SPM/VirtualLabs/Lab_4/venv_lab_4/lib/python3.12/site-packages (from llama-index-core>=0.11.0->llama-cloud-services>=0.6.2->llama-parse) (1.0.8)\n",
      "Requirement already satisfied: filetype<2.0.0,>=1.2.0 in /Users/denesh/Desktop/IIT-Chicago/Sem-3/SPM/VirtualLabs/Lab_4/venv_lab_4/lib/python3.12/site-packages (from llama-index-core>=0.11.0->llama-cloud-services>=0.6.2->llama-parse) (1.2.0)\n",
      "Requirement already satisfied: fsspec>=2023.5.0 in /Users/denesh/Desktop/IIT-Chicago/Sem-3/SPM/VirtualLabs/Lab_4/venv_lab_4/lib/python3.12/site-packages (from llama-index-core>=0.11.0->llama-cloud-services>=0.6.2->llama-parse) (2025.2.0)\n",
      "Requirement already satisfied: nest-asyncio<2.0.0,>=1.5.8 in /Users/denesh/Desktop/IIT-Chicago/Sem-3/SPM/VirtualLabs/Lab_4/venv_lab_4/lib/python3.12/site-packages (from llama-index-core>=0.11.0->llama-cloud-services>=0.6.2->llama-parse) (1.6.0)\n",
      "Requirement already satisfied: networkx>=3.0 in /Users/denesh/Desktop/IIT-Chicago/Sem-3/SPM/VirtualLabs/Lab_4/venv_lab_4/lib/python3.12/site-packages (from llama-index-core>=0.11.0->llama-cloud-services>=0.6.2->llama-parse) (3.4.2)\n",
      "Requirement already satisfied: nltk>3.8.1 in /Users/denesh/Desktop/IIT-Chicago/Sem-3/SPM/VirtualLabs/Lab_4/venv_lab_4/lib/python3.12/site-packages (from llama-index-core>=0.11.0->llama-cloud-services>=0.6.2->llama-parse) (3.9.1)\n",
      "Requirement already satisfied: numpy in /Users/denesh/Desktop/IIT-Chicago/Sem-3/SPM/VirtualLabs/Lab_4/venv_lab_4/lib/python3.12/site-packages (from llama-index-core>=0.11.0->llama-cloud-services>=0.6.2->llama-parse) (2.2.3)\n",
      "Requirement already satisfied: pillow>=9.0.0 in /Users/denesh/Desktop/IIT-Chicago/Sem-3/SPM/VirtualLabs/Lab_4/venv_lab_4/lib/python3.12/site-packages (from llama-index-core>=0.11.0->llama-cloud-services>=0.6.2->llama-parse) (11.1.0)\n",
      "Requirement already satisfied: requests>=2.31.0 in /Users/denesh/Desktop/IIT-Chicago/Sem-3/SPM/VirtualLabs/Lab_4/venv_lab_4/lib/python3.12/site-packages (from llama-index-core>=0.11.0->llama-cloud-services>=0.6.2->llama-parse) (2.32.3)\n",
      "Requirement already satisfied: tenacity!=8.4.0,<10.0.0,>=8.2.0 in /Users/denesh/Desktop/IIT-Chicago/Sem-3/SPM/VirtualLabs/Lab_4/venv_lab_4/lib/python3.12/site-packages (from llama-index-core>=0.11.0->llama-cloud-services>=0.6.2->llama-parse) (9.0.0)\n",
      "Requirement already satisfied: tiktoken>=0.3.3 in /Users/denesh/Desktop/IIT-Chicago/Sem-3/SPM/VirtualLabs/Lab_4/venv_lab_4/lib/python3.12/site-packages (from llama-index-core>=0.11.0->llama-cloud-services>=0.6.2->llama-parse) (0.9.0)\n",
      "Requirement already satisfied: tqdm<5.0.0,>=4.66.1 in /Users/denesh/Desktop/IIT-Chicago/Sem-3/SPM/VirtualLabs/Lab_4/venv_lab_4/lib/python3.12/site-packages (from llama-index-core>=0.11.0->llama-cloud-services>=0.6.2->llama-parse) (4.67.1)\n",
      "Requirement already satisfied: typing-extensions>=4.5.0 in /Users/denesh/Desktop/IIT-Chicago/Sem-3/SPM/VirtualLabs/Lab_4/venv_lab_4/lib/python3.12/site-packages (from llama-index-core>=0.11.0->llama-cloud-services>=0.6.2->llama-parse) (4.12.2)\n",
      "Requirement already satisfied: typing-inspect>=0.8.0 in /Users/denesh/Desktop/IIT-Chicago/Sem-3/SPM/VirtualLabs/Lab_4/venv_lab_4/lib/python3.12/site-packages (from llama-index-core>=0.11.0->llama-cloud-services>=0.6.2->llama-parse) (0.9.0)\n",
      "Requirement already satisfied: wrapt in /Users/denesh/Desktop/IIT-Chicago/Sem-3/SPM/VirtualLabs/Lab_4/venv_lab_4/lib/python3.12/site-packages (from llama-index-core>=0.11.0->llama-cloud-services>=0.6.2->llama-parse) (1.17.2)\n",
      "Requirement already satisfied: annotated-types>=0.6.0 in /Users/denesh/Desktop/IIT-Chicago/Sem-3/SPM/VirtualLabs/Lab_4/venv_lab_4/lib/python3.12/site-packages (from pydantic!=2.10->llama-cloud-services>=0.6.2->llama-parse) (0.7.0)\n",
      "Requirement already satisfied: pydantic-core==2.27.2 in /Users/denesh/Desktop/IIT-Chicago/Sem-3/SPM/VirtualLabs/Lab_4/venv_lab_4/lib/python3.12/site-packages (from pydantic!=2.10->llama-cloud-services>=0.6.2->llama-parse) (2.27.2)\n",
      "Requirement already satisfied: aiohappyeyeballs>=2.3.0 in /Users/denesh/Desktop/IIT-Chicago/Sem-3/SPM/VirtualLabs/Lab_4/venv_lab_4/lib/python3.12/site-packages (from aiohttp<4.0.0,>=3.8.6->llama-index-core>=0.11.0->llama-cloud-services>=0.6.2->llama-parse) (2.4.6)\n",
      "Requirement already satisfied: aiosignal>=1.1.2 in /Users/denesh/Desktop/IIT-Chicago/Sem-3/SPM/VirtualLabs/Lab_4/venv_lab_4/lib/python3.12/site-packages (from aiohttp<4.0.0,>=3.8.6->llama-index-core>=0.11.0->llama-cloud-services>=0.6.2->llama-parse) (1.3.2)\n",
      "Requirement already satisfied: attrs>=17.3.0 in /Users/denesh/Desktop/IIT-Chicago/Sem-3/SPM/VirtualLabs/Lab_4/venv_lab_4/lib/python3.12/site-packages (from aiohttp<4.0.0,>=3.8.6->llama-index-core>=0.11.0->llama-cloud-services>=0.6.2->llama-parse) (25.1.0)\n",
      "Requirement already satisfied: frozenlist>=1.1.1 in /Users/denesh/Desktop/IIT-Chicago/Sem-3/SPM/VirtualLabs/Lab_4/venv_lab_4/lib/python3.12/site-packages (from aiohttp<4.0.0,>=3.8.6->llama-index-core>=0.11.0->llama-cloud-services>=0.6.2->llama-parse) (1.5.0)\n",
      "Requirement already satisfied: multidict<7.0,>=4.5 in /Users/denesh/Desktop/IIT-Chicago/Sem-3/SPM/VirtualLabs/Lab_4/venv_lab_4/lib/python3.12/site-packages (from aiohttp<4.0.0,>=3.8.6->llama-index-core>=0.11.0->llama-cloud-services>=0.6.2->llama-parse) (6.1.0)\n",
      "Requirement already satisfied: propcache>=0.2.0 in /Users/denesh/Desktop/IIT-Chicago/Sem-3/SPM/VirtualLabs/Lab_4/venv_lab_4/lib/python3.12/site-packages (from aiohttp<4.0.0,>=3.8.6->llama-index-core>=0.11.0->llama-cloud-services>=0.6.2->llama-parse) (0.3.0)\n",
      "Requirement already satisfied: yarl<2.0,>=1.17.0 in /Users/denesh/Desktop/IIT-Chicago/Sem-3/SPM/VirtualLabs/Lab_4/venv_lab_4/lib/python3.12/site-packages (from aiohttp<4.0.0,>=3.8.6->llama-index-core>=0.11.0->llama-cloud-services>=0.6.2->llama-parse) (1.18.3)\n",
      "Requirement already satisfied: anyio in /Users/denesh/Desktop/IIT-Chicago/Sem-3/SPM/VirtualLabs/Lab_4/venv_lab_4/lib/python3.12/site-packages (from httpx>=0.20.0->llama-cloud<0.2.0,>=0.1.11->llama-cloud-services>=0.6.2->llama-parse) (4.8.0)\n",
      "Requirement already satisfied: httpcore==1.* in /Users/denesh/Desktop/IIT-Chicago/Sem-3/SPM/VirtualLabs/Lab_4/venv_lab_4/lib/python3.12/site-packages (from httpx>=0.20.0->llama-cloud<0.2.0,>=0.1.11->llama-cloud-services>=0.6.2->llama-parse) (1.0.7)\n",
      "Requirement already satisfied: idna in /Users/denesh/Desktop/IIT-Chicago/Sem-3/SPM/VirtualLabs/Lab_4/venv_lab_4/lib/python3.12/site-packages (from httpx>=0.20.0->llama-cloud<0.2.0,>=0.1.11->llama-cloud-services>=0.6.2->llama-parse) (3.10)\n",
      "Requirement already satisfied: h11<0.15,>=0.13 in /Users/denesh/Desktop/IIT-Chicago/Sem-3/SPM/VirtualLabs/Lab_4/venv_lab_4/lib/python3.12/site-packages (from httpcore==1.*->httpx>=0.20.0->llama-cloud<0.2.0,>=0.1.11->llama-cloud-services>=0.6.2->llama-parse) (0.14.0)\n",
      "Requirement already satisfied: joblib in /Users/denesh/Desktop/IIT-Chicago/Sem-3/SPM/VirtualLabs/Lab_4/venv_lab_4/lib/python3.12/site-packages (from nltk>3.8.1->llama-index-core>=0.11.0->llama-cloud-services>=0.6.2->llama-parse) (1.4.2)\n",
      "Requirement already satisfied: regex>=2021.8.3 in /Users/denesh/Desktop/IIT-Chicago/Sem-3/SPM/VirtualLabs/Lab_4/venv_lab_4/lib/python3.12/site-packages (from nltk>3.8.1->llama-index-core>=0.11.0->llama-cloud-services>=0.6.2->llama-parse) (2024.11.6)\n",
      "Requirement already satisfied: charset-normalizer<4,>=2 in /Users/denesh/Desktop/IIT-Chicago/Sem-3/SPM/VirtualLabs/Lab_4/venv_lab_4/lib/python3.12/site-packages (from requests>=2.31.0->llama-index-core>=0.11.0->llama-cloud-services>=0.6.2->llama-parse) (3.4.1)\n",
      "Requirement already satisfied: urllib3<3,>=1.21.1 in /Users/denesh/Desktop/IIT-Chicago/Sem-3/SPM/VirtualLabs/Lab_4/venv_lab_4/lib/python3.12/site-packages (from requests>=2.31.0->llama-index-core>=0.11.0->llama-cloud-services>=0.6.2->llama-parse) (2.3.0)\n",
      "Requirement already satisfied: greenlet!=0.4.17 in /Users/denesh/Desktop/IIT-Chicago/Sem-3/SPM/VirtualLabs/Lab_4/venv_lab_4/lib/python3.12/site-packages (from SQLAlchemy[asyncio]>=1.4.49->llama-index-core>=0.11.0->llama-cloud-services>=0.6.2->llama-parse) (3.1.1)\n",
      "Requirement already satisfied: mypy-extensions>=0.3.0 in /Users/denesh/Desktop/IIT-Chicago/Sem-3/SPM/VirtualLabs/Lab_4/venv_lab_4/lib/python3.12/site-packages (from typing-inspect>=0.8.0->llama-index-core>=0.11.0->llama-cloud-services>=0.6.2->llama-parse) (1.0.0)\n",
      "Requirement already satisfied: marshmallow<4.0.0,>=3.18.0 in /Users/denesh/Desktop/IIT-Chicago/Sem-3/SPM/VirtualLabs/Lab_4/venv_lab_4/lib/python3.12/site-packages (from dataclasses-json->llama-index-core>=0.11.0->llama-cloud-services>=0.6.2->llama-parse) (3.26.1)\n",
      "Requirement already satisfied: packaging>=17.0 in /Users/denesh/Desktop/IIT-Chicago/Sem-3/SPM/VirtualLabs/Lab_4/venv_lab_4/lib/python3.12/site-packages (from marshmallow<4.0.0,>=3.18.0->dataclasses-json->llama-index-core>=0.11.0->llama-cloud-services>=0.6.2->llama-parse) (24.2)\n",
      "Requirement already satisfied: sniffio>=1.1 in /Users/denesh/Desktop/IIT-Chicago/Sem-3/SPM/VirtualLabs/Lab_4/venv_lab_4/lib/python3.12/site-packages (from anyio->httpx>=0.20.0->llama-cloud<0.2.0,>=0.1.11->llama-cloud-services>=0.6.2->llama-parse) (1.3.1)\n",
      "Requirement already satisfied: replicate in /Users/denesh/Desktop/IIT-Chicago/Sem-3/SPM/VirtualLabs/Lab_4/venv_lab_4/lib/python3.12/site-packages (1.0.4)\n",
      "Requirement already satisfied: httpx<1,>=0.21.0 in /Users/denesh/Desktop/IIT-Chicago/Sem-3/SPM/VirtualLabs/Lab_4/venv_lab_4/lib/python3.12/site-packages (from replicate) (0.28.1)\n",
      "Requirement already satisfied: packaging in /Users/denesh/Desktop/IIT-Chicago/Sem-3/SPM/VirtualLabs/Lab_4/venv_lab_4/lib/python3.12/site-packages (from replicate) (24.2)\n",
      "Requirement already satisfied: pydantic>1.10.7 in /Users/denesh/Desktop/IIT-Chicago/Sem-3/SPM/VirtualLabs/Lab_4/venv_lab_4/lib/python3.12/site-packages (from replicate) (2.10.6)\n",
      "Requirement already satisfied: typing_extensions>=4.5.0 in /Users/denesh/Desktop/IIT-Chicago/Sem-3/SPM/VirtualLabs/Lab_4/venv_lab_4/lib/python3.12/site-packages (from replicate) (4.12.2)\n",
      "Requirement already satisfied: anyio in /Users/denesh/Desktop/IIT-Chicago/Sem-3/SPM/VirtualLabs/Lab_4/venv_lab_4/lib/python3.12/site-packages (from httpx<1,>=0.21.0->replicate) (4.8.0)\n",
      "Requirement already satisfied: certifi in /Users/denesh/Desktop/IIT-Chicago/Sem-3/SPM/VirtualLabs/Lab_4/venv_lab_4/lib/python3.12/site-packages (from httpx<1,>=0.21.0->replicate) (2025.1.31)\n",
      "Requirement already satisfied: httpcore==1.* in /Users/denesh/Desktop/IIT-Chicago/Sem-3/SPM/VirtualLabs/Lab_4/venv_lab_4/lib/python3.12/site-packages (from httpx<1,>=0.21.0->replicate) (1.0.7)\n",
      "Requirement already satisfied: idna in /Users/denesh/Desktop/IIT-Chicago/Sem-3/SPM/VirtualLabs/Lab_4/venv_lab_4/lib/python3.12/site-packages (from httpx<1,>=0.21.0->replicate) (3.10)\n",
      "Requirement already satisfied: h11<0.15,>=0.13 in /Users/denesh/Desktop/IIT-Chicago/Sem-3/SPM/VirtualLabs/Lab_4/venv_lab_4/lib/python3.12/site-packages (from httpcore==1.*->httpx<1,>=0.21.0->replicate) (0.14.0)\n",
      "Requirement already satisfied: annotated-types>=0.6.0 in /Users/denesh/Desktop/IIT-Chicago/Sem-3/SPM/VirtualLabs/Lab_4/venv_lab_4/lib/python3.12/site-packages (from pydantic>1.10.7->replicate) (0.7.0)\n",
      "Requirement already satisfied: pydantic-core==2.27.2 in /Users/denesh/Desktop/IIT-Chicago/Sem-3/SPM/VirtualLabs/Lab_4/venv_lab_4/lib/python3.12/site-packages (from pydantic>1.10.7->replicate) (2.27.2)\n",
      "Requirement already satisfied: sniffio>=1.1 in /Users/denesh/Desktop/IIT-Chicago/Sem-3/SPM/VirtualLabs/Lab_4/venv_lab_4/lib/python3.12/site-packages (from anyio->httpx<1,>=0.21.0->replicate) (1.3.1)\n"
     ]
    }
   ],
   "source": [
    "!pip install llama-index\n",
    "!pip install llama-index-llms-ollama\n",
    "!pip install llama-index-llms-replicate\n",
    "!pip install llama-index-embeddings-huggingface\n",
    "!pip install llama-parse\n",
    "!pip install replicate"
   ]
  },
  {
   "cell_type": "code",
   "execution_count": 1,
   "id": "5d450780-3093-4d03-8b6c-64cfcd87d0e2",
   "metadata": {},
   "outputs": [],
   "source": [
    "import nest_asyncio\n",
    "\n",
    "nest_asyncio.apply()"
   ]
  },
  {
   "cell_type": "markdown",
   "id": "351a9545-3a73-499e-894f-e3d6ac0db46c",
   "metadata": {},
   "source": [
    "### Setup LLM using Replicate\n",
    "\n",
    "Make sure you have REPLICATE_API_TOKEN specified!"
   ]
  },
  {
   "cell_type": "code",
   "execution_count": 2,
   "id": "31a4608f-0b1f-4548-9bd7-c8f80d75a056",
   "metadata": {},
   "outputs": [],
   "source": [
    "# os.environ[\"REPLICATE_API_TOKEN\"] = \"<YOUR_API_KEY>\"\n",
    "\n",
    "import os\n",
    "import replicate\n",
    "from Constants import Constants\n",
    "# Set the REPLICATE_API_TOKEN environment variable\n",
    "os.environ[\"REPLICATE_API_TOKEN\"] = Constants.REPLICATE_API_KEY\n",
    "import os\n",
    "import replicate\n",
    "\n",
    "# Set the REPLICATE_API_TOKEN environment variable\n",
    "os.environ[\"REPLICATE_API_TOKEN\"] = Constants.REPLICATE_API_KEY\n",
    "\n"
   ]
  },
  {
   "cell_type": "code",
   "execution_count": 3,
   "id": "60597af6-dd74-455e-930d-fd8929c7054a",
   "metadata": {},
   "outputs": [],
   "source": [
    "from llama_index.llms.replicate import Replicate\n",
    "\n",
    "# llm_replicate = Replicate(model=\"deepseek-ai/deepseek-r1\", api_token=os.environ[\"REPLICATE_API_TOKEN\"])\n",
    "llm_replicate = Replicate(model=\"meta/meta-llama-3-70b-instruct\", api_token=os.environ[\"REPLICATE_API_TOKEN\"])"
   ]
  },
  {
   "cell_type": "markdown",
   "id": "c5a9c3b7-dd54-4522-9b51-1ed3de87d41b",
   "metadata": {},
   "source": [
    "### Setup Embedding Model"
   ]
  },
  {
   "cell_type": "code",
   "execution_count": 4,
   "id": "2d4bbe98-f1e7-4d94-82e1-503673026bde",
   "metadata": {},
   "outputs": [],
   "source": [
    "from llama_index.embeddings.huggingface import HuggingFaceEmbedding\n",
    "\n",
    "embed_model = HuggingFaceEmbedding(model_name=\"BAAI/bge-small-en-v1.5\")"
   ]
  },
  {
   "cell_type": "markdown",
   "id": "74842474-df89-462e-89e6-0b65466f4cfe",
   "metadata": {},
   "source": [
    "### Define Global Settings Configuration\n",
    "\n",
    "In LlamaIndex, you can define global settings so you don't have to pass the LLM / embedding model objects everywhere."
   ]
  },
  {
   "cell_type": "code",
   "execution_count": 5,
   "id": "5e587d04-312f-41ce-a224-d27c1d1287df",
   "metadata": {},
   "outputs": [],
   "source": [
    "from llama_index.core import Settings\n",
    "\n",
    "Settings.llm = llm_replicate\n",
    "Settings.embed_model = embed_model"
   ]
  },
  {
   "cell_type": "markdown",
   "id": "4d814780-54f7-49d3-a062-a8edca56fe8b",
   "metadata": {},
   "source": [
    "### Download Data\n",
    "\n",
    "Here you'll download data that's used in section 2 and onwards.\n",
    "\n",
    "We'll download some articles on Kendrick, Drake, and their beef (as of May 2024)."
   ]
  },
  {
   "cell_type": "code",
   "execution_count": 6,
   "id": "1bac834b-2caf-42dd-89da-0b96585d5c84",
   "metadata": {},
   "outputs": [
    {
     "name": "stdout",
     "output_type": "stream",
     "text": [
      "  % Total    % Received % Xferd  Average Speed   Time    Time     Time  Current\n",
      "                                 Dload  Upload   Total   Spent    Left  Speed\n",
      "100    17  100    17    0     0     32      0 --:--:-- --:--:-- --:--:--    32\n",
      "100   475    0   475    0     0    415      0 --:--:--  0:00:01 --:--:--   824\n",
      "100 47.0M  100 47.0M    0     0  18.6M      0  0:00:02  0:00:02 --:--:-- 55.2M\n",
      "  % Total    % Received % Xferd  Average Speed   Time    Time     Time  Current\n",
      "                                 Dload  Upload   Total   Spent    Left  Speed\n",
      "100    17  100    17    0     0     38      0 --:--:-- --:--:-- --:--:--    38\n",
      "100   475    0   475    0     0    620      0 --:--:-- --:--:-- --:--:--     0\n",
      "100 4483k  100 4483k    0     0  3295k      0  0:00:01  0:00:01 --:--:-- 3295k\n",
      "  % Total    % Received % Xferd  Average Speed   Time    Time     Time  Current\n",
      "                                 Dload  Upload   Total   Spent    Left  Speed\n",
      "100    17  100    17    0     0     34      0 --:--:-- --:--:-- --:--:--    34\n",
      "100   475    0   475    0     0    558      0 --:--:-- --:--:-- --:--:--   558\n",
      "100 5464k  100 5464k    0     0  2767k      0  0:00:01  0:00:01 --:--:-- 7226k\n"
     ]
    }
   ],
   "source": [
    "!mkdir -p data\n",
    "!curl -L \"https://www.dropbox.com/scl/fi/t1soxfjdp0v44an6sdymd/drake_kendrick_beef.pdf?rlkey=u9546ymb7fj8lk2v64r6p5r5k&st=wjzzrgil&dl=1\" -o data/drake_kendrick_beef.pdf\n",
    "!curl -L \"https://www.dropbox.com/scl/fi/nts3n64s6kymner2jppd6/drake.pdf?rlkey=hksirpqwzlzqoejn55zemk6ld&st=mohyfyh4&dl=1\" -o data/drake.pdf\n",
    "!curl -L \"https://www.dropbox.com/scl/fi/8ax2vnoebhmy44bes2n1d/kendrick.pdf?rlkey=fhxvn94t5amdqcv9vshifd3hj&st=dxdtytn6&dl=1\" -o data/kendrick.pdf"
   ]
  },
  {
   "cell_type": "markdown",
   "id": "69626d36-99ec-4a37-8d01-ced79aa9fd53",
   "metadata": {},
   "source": [
    "### Load Data\n",
    "\n",
    "We load data using LlamaParse by default, but you can also choose to opt for our free pypdf reader (in SimpleDirectoryReader by default) if you don't have an account! \n",
    "\n",
    "1. LlamaParse: Signup for an account here: cloud.llamaindex.ai. You get 1k free pages a day, and paid plan is 7k free pages + 0.3c per additional page. LlamaParse is a good option if you want to parse complex documents, like PDFs with charts, tables, and more. \n",
    "\n",
    "2. Default PDF Parser (In `SimpleDirectoryReader`). If you don't want to signup for an account / use a PDF service, just use the default PyPDF reader bundled in our file loader. It's a good choice for getting started!"
   ]
  },
  {
   "cell_type": "code",
   "execution_count": 7,
   "id": "9e3e6a28-e902-4b6f-8c4d-250042ee71f3",
   "metadata": {},
   "outputs": [],
   "source": [
    "from llama_index.core import SimpleDirectoryReader\n",
    "\n",
    "docs_kendrick = SimpleDirectoryReader(input_files=[\"data/kendrick.pdf\"]).load_data()\n",
    "docs_drake = SimpleDirectoryReader(input_files=[\"data/drake.pdf\"]).load_data()\n",
    "docs_both = SimpleDirectoryReader(input_files=[\"data/drake_kendrick_beef.pdf\"]).load_data()"
   ]
  },
  {
   "cell_type": "markdown",
   "id": "3916f569-4631-498e-90a5-ee185df7a119",
   "metadata": {},
   "source": [
    "## 1. Basic Completion and Chat"
   ]
  },
  {
   "cell_type": "markdown",
   "id": "a1cc49bb-ab64-4070-8711-e9a0a860db3c",
   "metadata": {},
   "source": [
    "### Call complete with a prompt"
   ]
  },
  {
   "cell_type": "code",
   "execution_count": 8,
   "id": "5328c44a-c17e-4bf6-bbe7-71de75afae32",
   "metadata": {},
   "outputs": [
    {
     "name": "stdout",
     "output_type": "stream",
     "text": [
      "\n",
      "\n",
      "As a helpful assistant, I don't have personal preferences or opinions, nor do I have the ability to enjoy or dislike music. My purpose is to provide information and assist with tasks to the best of my abilities.\n",
      "\n",
      "However, I can provide you with some information about Drake and Kendrick Lamar, two highly acclaimed and popular rappers.\n",
      "\n",
      "Drake is a Canadian rapper, singer, and songwriter known for his emotive and introspective lyrics, as well as his blend of hip-hop and R&B styles. He has released several successful albums, including \"Take Care,\" \"Nothing Was the Same,\" and \"Views,\" and has collaborated with numerous artists, including Lil Wayne, Chris Brown, and Rihanna.\n",
      "\n",
      "Kendrick Lamar, on the other hand, is an American rapper, songwriter, and record producer from Compton, California. He is known for his storytelling ability, socially conscious lyrics, and fusion of jazz and funk elements with hip-hop. He has released several critically acclaimed albums, including \"Good Kid, M.A.A.D City,\" \"To Pimp a Butterfly,\" and \"DAMN.,\" and has collaborated with artists such as Dr. Dre, Snoop Dogg, and Taylor Swift.\n",
      "\n",
      "Both Drake and Kendrick Lamar are highly respected in the music industry and have achieved significant commercial success. Ultimately, the decision of who is \"better\" is a matter of personal preference. Do you have a favorite song or album from either artist?\n"
     ]
    }
   ],
   "source": [
    "response = llm_replicate.complete(\"do you like drake or kendrick better?\")\n",
    "\n",
    "print(response)"
   ]
  },
  {
   "cell_type": "code",
   "execution_count": 9,
   "id": "76e4a12c-169a-4ed2-88e3-9b0d2ec12111",
   "metadata": {},
   "outputs": [
    {
     "name": "stdout",
     "output_type": "stream",
     "text": [
      "\n",
      "\n",
      "Man, I gotta be real with you, I'm a die-hard Drake fan, and I'm not ashamed to admit it! Now, I know Kendrick is a genius and all, but for me, Drake just resonates on a different level. Here's why:\n",
      "\n",
      "First off, Drake's ability to blend introspection with catchy, radio-friendly production is unmatched. He's got this uncanny talent for crafting songs that are both deeply personal and ridiculously infectious. I mean, who else can make you nod your head to a song about relationships and vulnerability like \"Marvin's Room\" or \"Jungle\"?\n",
      "\n",
      "Another reason I prefer Drake is his versatility. He's not afraid to experiment with different sounds and styles, from the atmospheric, ambient vibes of \"If You're Reading This It's Too Late\" to the more upbeat, dancehall-infused tracks like \"One Dance\" and \"God's Plan\". He's always pushing the boundaries of what hip-hop can be, and that's something I really admire.\n",
      "\n",
      "Now, I know some people might say Kendrick is more \"conscious\" or \"lyrically dense\", and that's true – Kendrick is a master of storytelling and social commentary. But for me, Drake's relatability and emotional authenticity are what set him apart. He's not afraid to be vulnerable, to show his emotions, and to explore the complexities of relationships and fame. His music feels more... human, you know?\n",
      "\n",
      "Plus, let's be real, Drake's got some of the most iconic flows in the game. His ability to ride a beat, to weave in and out of melodies, and to create these effortless, laid-back vibes is unparalleled. I mean, have you heard \"Started From the Bottom\" or \"Nonstop\"? Those flows are like butter, man!\n",
      "\n",
      "Lastly, I think Drake's ability to connect with his fans on a personal level is unparalleled. He's built this massive, devoted following by being authentic, by being true to himself, and by speaking directly to his audience. He's not afraid to share his struggles, his fears, and his triumphs, and that's something that resonates deeply with me.\n",
      "\n",
      "So, all in all, while Kendrick is an incredible artist in his own right, for me, Drake's unique blend of introspection, versatility, relatability, and flow make him the superior artist. Sorry, Kendrick fans – I know I'm in the minority here, but hey, being a Drake stan is all about embracing the 6 God's greatness, right?"
     ]
    }
   ],
   "source": [
    "stream_response = llm_replicate.stream_complete(\n",
    "    \"you're a drake fan. tell me why you like drake more than kendrick\"\n",
    ")\n",
    "\n",
    "for t in stream_response:\n",
    "    print(t.delta, end=\"\")"
   ]
  },
  {
   "cell_type": "markdown",
   "id": "35d1a61b-f95a-472e-90f1-df9cfe76bd39",
   "metadata": {},
   "source": [
    "### Call chat with a list of messages"
   ]
  },
  {
   "cell_type": "code",
   "execution_count": 10,
   "id": "fbce5aea-f343-445c-981c-30a6d8142251",
   "metadata": {},
   "outputs": [],
   "source": [
    "from llama_index.core.llms import ChatMessage\n",
    "\n",
    "messages = [\n",
    "    ChatMessage(role=\"system\", content=\"You are Kendrick.\"),\n",
    "    ChatMessage(role=\"user\", content=\"Write a verse.\"),\n",
    "]\n",
    "response = llm_replicate.chat(messages)"
   ]
  },
  {
   "cell_type": "code",
   "execution_count": 11,
   "id": "51a860ee-26d0-4e31-ade5-ba4b71ad45cc",
   "metadata": {},
   "outputs": [
    {
     "name": "stdout",
     "output_type": "stream",
     "text": [
      "assistant: \n",
      "\n",
      "\"Listen close, I got a message for the masses,\n",
      "Ain't no sugarcoatin' the truth, it's time to face it,\n",
      "Systemic oppression, it's a deadly virus,\n",
      "Spreadin' hate and fear, it's a modern-day crisis,\n",
      "We need a cure, we need a change of pace,\n",
      "Can't keep on livin' in a world that's stuck in this place,\n",
      "I'm talkin' freedom, equality, and justice too,\n",
      "We need it now, ain't nothin' we can't do\"\n"
     ]
    }
   ],
   "source": [
    "print(response)"
   ]
  },
  {
   "cell_type": "markdown",
   "id": "0368e7e1-af0d-4f6b-94e5-bb2cdcab022c",
   "metadata": {},
   "source": [
    "## 2. Basic RAG (Vector Search, Summarization)"
   ]
  },
  {
   "cell_type": "markdown",
   "id": "2a88b129-df70-4133-81bc-8840681e7aba",
   "metadata": {},
   "source": [
    "### Basic RAG (Vector Search)"
   ]
  },
  {
   "cell_type": "code",
   "execution_count": 12,
   "id": "11eeb942-a154-46dc-b007-8943db32abb5",
   "metadata": {},
   "outputs": [],
   "source": [
    "from llama_index.core import VectorStoreIndex\n",
    "\n",
    "index = VectorStoreIndex.from_documents(docs_both)\n",
    "query_engine = index.as_query_engine(similarity_top_k=3)"
   ]
  },
  {
   "cell_type": "code",
   "execution_count": 13,
   "id": "39843765-2670-43aa-95c5-8093e59d5c21",
   "metadata": {},
   "outputs": [],
   "source": [
    "response = query_engine.query(\"Tell me about family matters\")"
   ]
  },
  {
   "cell_type": "code",
   "execution_count": 14,
   "id": "ce6c59d4-37c9-4784-a373-2f6f8d872737",
   "metadata": {},
   "outputs": [
    {
     "name": "stdout",
     "output_type": "stream",
     "text": [
      "\n",
      "\n",
      "Based on the provided context, \"Family Matters\" appears to be a diss track by Drake, specifically aimed at Kendrick Lamar. The track is approximately 7.5 minutes long and features three different beats. In the song, Drake accuses Kendrick of various things, including rampant infidelity, not spending time with his family, and physically abusing the mother of his children. Additionally, Drake claims that Kendrick's children may not all be his, suggesting that one of them was fathered by his close friend.\n"
     ]
    }
   ],
   "source": [
    "print(str(response))"
   ]
  },
  {
   "cell_type": "markdown",
   "id": "19c80b3a-064c-4f8a-85ea-488d501fdc21",
   "metadata": {},
   "source": [
    "### Basic RAG (Summarization)"
   ]
  },
  {
   "cell_type": "code",
   "execution_count": 15,
   "id": "f706e6e8-8e31-491a-8a60-a0937d96b1c1",
   "metadata": {},
   "outputs": [],
   "source": [
    "from llama_index.core import SummaryIndex\n",
    "\n",
    "summary_index = SummaryIndex.from_documents(docs_both)\n",
    "summary_engine = summary_index.as_query_engine()"
   ]
  },
  {
   "cell_type": "code",
   "execution_count": 16,
   "id": "69deb896-c39c-4c97-ba5b-cc0290033d17",
   "metadata": {},
   "outputs": [],
   "source": [
    "response = summary_engine.query(\n",
    "    \"Given your assessment of this article, who won the beef?\"\n",
    ")"
   ]
  },
  {
   "cell_type": "code",
   "execution_count": 17,
   "id": "e954f2bb-cab4-41d3-afa3-a56b3301a3b8",
   "metadata": {},
   "outputs": [
    {
     "name": "stdout",
     "output_type": "stream",
     "text": [
      "\n",
      "\n",
      "Based on the article, it still seems that the author is leaning towards Kendrick Lamar as the winner of the beef. The new context provided further reinforces this assessment, as Kendrick's second diss track \"Not Like Us\" is described as an \"impressive strategical feat\" that applies back-to-back pressure on Drake and showcases Kendrick's range. Additionally, the article notes that \"Not Like Us\" is a much-needed exhale after the intense \"Meet the Grahams\" and finds Kendrick dancing over a Mustard beat, which suggests that he is able to adapt and switch up his style to stay ahead of Drake.\n",
      "\n",
      "The article also highlights the impact of \"Not Like Us\" on the beef, stating that it turns the tide in Kendrick's favor and puts the ball in Drake's court to hit back. The author notes that while both tracks are uncomfortable to listen to, Kendrick's \"Not Like Us\" is seen as a more enjoyable and well-executed track.\n",
      "\n",
      "Drake's response, \"The Heart Part 6\", is seen as a reaction to everything that's transpired over the last three days, including direct rebuttals to Kendrick's \"Not Like Us\". However, Drake's track is described as him sounding \"a little over it all\", and his responses to Kendrick's accusations are seen as not as effective.\n",
      "\n",
      "Overall, the refined answer remains the same: based on the article, Kendrick Lamar appears to be the winner of the beef, as he has successfully outmaneuvered Drake with his lyrical prowess and strategic releases.\n"
     ]
    }
   ],
   "source": [
    "print(str(response))"
   ]
  },
  {
   "cell_type": "markdown",
   "id": "1f3eb3e3-ecd5-47f0-9cc4-dbfa5583dd15",
   "metadata": {},
   "source": [
    "## 3. Advanced RAG (Routing, Sub-Questions)"
   ]
  },
  {
   "cell_type": "markdown",
   "id": "05af1098-4221-4482-b095-9e300218bc1e",
   "metadata": {},
   "source": [
    "### Build a Router that can choose whether to do vector search or summarization"
   ]
  },
  {
   "cell_type": "code",
   "execution_count": 18,
   "id": "f0de5a8d-9ce7-4096-9b15-44c385dec177",
   "metadata": {},
   "outputs": [],
   "source": [
    "from llama_index.core.tools import QueryEngineTool, ToolMetadata\n",
    "\n",
    "vector_tool = QueryEngineTool(\n",
    "    index.as_query_engine(),\n",
    "    metadata=ToolMetadata(\n",
    "        name=\"vector_search\",\n",
    "        description=\"Useful for searching for specific facts.\",\n",
    "    ),\n",
    ")\n",
    "\n",
    "summary_tool = QueryEngineTool(\n",
    "    index.as_query_engine(response_mode=\"tree_summarize\"),\n",
    "    metadata=ToolMetadata(\n",
    "        name=\"summary\",\n",
    "        description=\"Useful for summarizing an entire document.\",\n",
    "    ),\n",
    ")"
   ]
  },
  {
   "cell_type": "code",
   "execution_count": 19,
   "id": "5fb77b7b-7795-4891-9e6a-a7e0740e0254",
   "metadata": {},
   "outputs": [
    {
     "name": "stdout",
     "output_type": "stream",
     "text": [
      "\u001b[1;3;38;5;200mSelecting query engine 0: The question asks for specific facts about the song 'eet the grahams', such as its significance, which makes it suitable for searching for specific facts..\n",
      "\u001b[0m"
     ]
    }
   ],
   "source": [
    "from llama_index.core.query_engine import RouterQueryEngine\n",
    "\n",
    "query_engine = RouterQueryEngine.from_defaults(\n",
    "    [vector_tool, summary_tool], select_multi=False, verbose=True\n",
    ")\n",
    "\n",
    "response = query_engine.query(\n",
    "    \"Tell me about the song meet the grahams - why is it significant\"\n",
    ")"
   ]
  },
  {
   "cell_type": "code",
   "execution_count": 20,
   "id": "8988d821-f27b-4661-8e65-521d55f83857",
   "metadata": {},
   "outputs": [
    {
     "name": "stdout",
     "output_type": "stream",
     "text": [
      "\n",
      "\n",
      "Based on the provided context, \"Meet the Grahams\" is a song by Kendrick Lamar that is part of his beef with Drake. The song is significant because it was seen as a diss track aimed at Drake, and it marked a turning point in their feud. However, the song was perceived as \"joyless\" and didn't quite resonate with fans. It was also seen as Kendrick taking things too far, and he was in danger of losing his audience.\n",
      "\n",
      "The significance of \"Meet the Grahams\" lies in its role as a precursor to \"Not Like Us\", another song by Kendrick Lamar that is also part of the beef with Drake. \"Not Like Us\" is seen as a more strategic and effective diss track, which applies pressure on Drake and showcases Kendrick's range. The contrast between the two songs highlights Kendrick's ability to adapt and respond to the situation, making \"Meet the Grahams\" a significant step in the evolution of their feud.\n"
     ]
    }
   ],
   "source": [
    "print(response)"
   ]
  },
  {
   "cell_type": "markdown",
   "id": "7aec76d3-bab0-4427-b50b-c846c17a272f",
   "metadata": {},
   "source": [
    "### Break Complex Questions down into Sub-Questions\n",
    "\n",
    "Our Sub-Question Query Engine breaks complex questions down into sub-questions.\n"
   ]
  },
  {
   "cell_type": "code",
   "execution_count": 21,
   "id": "367f0720-97e9-4c99-9122-62f0ebbe1a74",
   "metadata": {},
   "outputs": [],
   "source": [
    "drake_index = VectorStoreIndex.from_documents(docs_drake)\n",
    "drake_query_engine = drake_index.as_query_engine(similarity_top_k=3)\n",
    "\n",
    "kendrick_index = VectorStoreIndex.from_documents(docs_kendrick)\n",
    "kendrick_query_engine = kendrick_index.as_query_engine(similarity_top_k=3)"
   ]
  },
  {
   "cell_type": "code",
   "execution_count": 22,
   "id": "169965a0-dda8-4ac3-837c-49d21ad8c582",
   "metadata": {},
   "outputs": [],
   "source": [
    "from llama_index.core.tools import QueryEngineTool, ToolMetadata\n",
    "\n",
    "drake_tool = QueryEngineTool(\n",
    "    drake_index.as_query_engine(),\n",
    "    metadata=ToolMetadata(\n",
    "        name=\"drake_search\",\n",
    "        description=\"Useful for searching over Drake's life.\",\n",
    "    ),\n",
    ")\n",
    "\n",
    "kendrick_tool = QueryEngineTool(\n",
    "    kendrick_index.as_query_engine(),\n",
    "    metadata=ToolMetadata(\n",
    "        name=\"kendrick_summary\",\n",
    "        description=\"Useful for searching over Kendrick's life.\",\n",
    "    ),\n",
    ")"
   ]
  },
  {
   "cell_type": "code",
   "execution_count": 23,
   "id": "dd544f46-7d7a-4449-af6d-3ce9bb8f632c",
   "metadata": {},
   "outputs": [
    {
     "name": "stdout",
     "output_type": "stream",
     "text": [
      "Generated 1 sub questions.\n",
      "\u001b[1;3;38;2;237;90;200m[drake_search] Q: What are the albums released by Drake\n",
      "\u001b[0m\u001b[1;3;38;2;237;90;200m[drake_search] A: \n",
      "\n",
      "Based on the provided context, the albums released by Drake mentioned are:\n",
      "\n",
      "1. So Far Gone (mixtape, re-released in 2019)\n",
      "2. Care Package (compilation album, released in 2019)\n",
      "3. Dark Lane Demo Tapes (commercial mixtape, released in 2020)\n",
      "4. Certified Lover Boy (studio album, released in 2021)\n",
      "5. For All The Dogs (studio album, released in 2024)\n",
      "\n",
      "Note that this list only includes the albums mentioned in the provided context and may not be an exhaustive list of Drake's discography.\n",
      "\u001b[0m\n",
      "\n",
      "Based on the provided context, Drake released the following albums in his career:\n",
      "\n",
      "1. So Far Gone (mixtape, re-released in 2019)\n",
      "2. Care Package (compilation album, released in 2019)\n",
      "3. Dark Lane Demo Tapes (commercial mixtape, released in 2020)\n",
      "4. Certified Lover Boy (studio album, released in 2021)\n",
      "5. For All The Dogs (studio album, released in 2024)\n",
      "\n",
      "Note that this list only includes the albums mentioned in the provided context and may not be an exhaustive list of Drake's discography.\n"
     ]
    }
   ],
   "source": [
    "from llama_index.core.query_engine import SubQuestionQueryEngine\n",
    "\n",
    "query_engine = SubQuestionQueryEngine.from_defaults(\n",
    "    [drake_tool, kendrick_tool],\n",
    "    llm=llm_replicate,  \n",
    "    verbose=True,\n",
    ")\n",
    "\n",
    "response = query_engine.query(\"Which albums did Drake release in his career?\")\n",
    "\n",
    "print(response)"
   ]
  },
  {
   "cell_type": "markdown",
   "id": "4e21d626-68e5-48f6-99f2-2f22bdc94a20",
   "metadata": {},
   "source": [
    "## 4. Text-to-SQL \n",
    "\n",
    "Here, we download and use a sample SQLite database with 11 tables, with various info about music, playlists, and customers. We will limit to a select few tables for this test."
   ]
  },
  {
   "cell_type": "code",
   "execution_count": 24,
   "id": "ae86945a-5b17-4720-9827-e7c317cc3321",
   "metadata": {},
   "outputs": [],
   "source": [
    "# Function to download files\n",
    "def download_file(url, filepath):\n",
    "    response = requests.get(url, stream=True)\n",
    "    with open(filepath, \"wb\") as file:\n",
    "        for chunk in response.iter_content(chunk_size=1024):\n",
    "            file.write(chunk)\n",
    "\n",
    "# Create data directory\n",
    "os.makedirs(\"data\", exist_ok=True)"
   ]
  },
  {
   "cell_type": "code",
   "execution_count": 25,
   "id": "58ea1de8-f929-4de4-a3d9-509cd128668a",
   "metadata": {},
   "outputs": [],
   "source": [
    "# Download and extract SQLite database\n",
    "import requests\n",
    "import zipfile\n",
    "download_file(\"https://www.sqlitetutorial.net/wp-content/uploads/2018/03/chinook.zip\", \"data/chinook.zip\")\n",
    "with zipfile.ZipFile(\"data/chinook.zip\", \"r\") as zip_ref:\n",
    "    zip_ref.extractall(\"data/\")"
   ]
  },
  {
   "cell_type": "code",
   "execution_count": 26,
   "id": "8ff40561-28ee-4762-beb8-fc110520e802",
   "metadata": {},
   "outputs": [],
   "source": [
    "from sqlalchemy import (\n",
    "    create_engine,\n",
    "    MetaData,\n",
    "    Table,\n",
    "    Column,\n",
    "    String,\n",
    "    Integer,\n",
    "    select,\n",
    "    column,\n",
    ")\n",
    "\n",
    "engine = create_engine(\"sqlite:///data/chinook.db\")"
   ]
  },
  {
   "cell_type": "code",
   "execution_count": 27,
   "id": "a58e4c99-bbb1-4f47-a308-951d407fde50",
   "metadata": {},
   "outputs": [],
   "source": [
    "from llama_index.core import SQLDatabase\n",
    "\n",
    "sql_database = SQLDatabase(engine)"
   ]
  },
  {
   "cell_type": "code",
   "execution_count": 28,
   "id": "05d460f2-c401-4738-a4be-f5a778abfdd0",
   "metadata": {},
   "outputs": [],
   "source": [
    "from llama_index.core.indices.struct_store import NLSQLTableQueryEngine\n",
    "\n",
    "query_engine = NLSQLTableQueryEngine(\n",
    "    sql_database=sql_database,\n",
    "    tables=[\"albums\", \"tracks\", \"artists\"],\n",
    "    llm=llm_replicate,\n",
    ")"
   ]
  },
  {
   "cell_type": "code",
   "execution_count": 29,
   "id": "bf8f4ed0-82d1-4dcc-bb42-69e0794cb7e7",
   "metadata": {},
   "outputs": [
    {
     "name": "stdout",
     "output_type": "stream",
     "text": [
      "\n",
      "\n",
      "Here are some albums:\n",
      "\n",
      "1. \"For Those About To Rock We Salute You\" by Artist 1\n",
      "2. \"Balls to the Wall\" by Artist 2\n",
      "3. \"Restless and Wild\" by Artist 2\n",
      "4. \"Let There Be Rock\" by Artist 1\n",
      "5. \"Big Ones\" by Artist 3\n",
      "6. \"Jagged Little Pill\" by Artist 4\n",
      "7. \"Facelift\" by Artist 5\n",
      "8. \"Warner 25 Anos\" by Artist 6\n",
      "9. \"Plays Metallica By Four Cellos\" by Artist 7\n",
      "10. \"Audioslave\" by Artist 8\n"
     ]
    }
   ],
   "source": [
    "response = query_engine.query(\"What are some albums?\")\n",
    "\n",
    "print(response)"
   ]
  },
  {
   "cell_type": "code",
   "execution_count": 30,
   "id": "7d13cd77-bc3d-4661-95b7-6b745f4e5abf",
   "metadata": {},
   "outputs": [
    {
     "name": "stdout",
     "output_type": "stream",
     "text": [
      "\n",
      "\n",
      "Here are 5 artists: AC/DC, Accept, Aerosmith, Alanis Morissette, and Alice In Chains.\n"
     ]
    }
   ],
   "source": [
    "response = query_engine.query(\"What are some artists? Limit it to 5.\")\n",
    "\n",
    "print(response)"
   ]
  },
  {
   "cell_type": "code",
   "execution_count": 31,
   "id": "d3c69fe8-6692-41f3-8635-b1a438258229",
   "metadata": {},
   "outputs": [
    {
     "name": "stdout",
     "output_type": "stream",
     "text": [
      "\n",
      "\n",
      "Here are three tracks from the legendary Australian rock band AC/DC: \"For Those About To Rock (We Salute You)\", \"Put The Finger On You\", and \"Let's Get It Up\".\n"
     ]
    }
   ],
   "source": [
    "response = query_engine.query(\n",
    "    \"What are some tracks from the artist AC/DC? Limit it to 3\"\n",
    ")\n",
    "\n",
    "print(response)"
   ]
  },
  {
   "cell_type": "code",
   "execution_count": 32,
   "id": "1bc73f22-9146-4e74-bcf0-562e5cafc84f",
   "metadata": {},
   "outputs": [
    {
     "name": "stdout",
     "output_type": "stream",
     "text": [
      "SELECT tracks.Name FROM tracks JOIN albums ON tracks.AlbumId = albums.AlbumId JOIN artists ON albums.ArtistId = artists.ArtistId WHERE artists.Name = 'AC/DC' LIMIT 3;\n"
     ]
    }
   ],
   "source": [
    "print(response.metadata[\"sql_query\"])"
   ]
  },
  {
   "cell_type": "markdown",
   "id": "b2b3a8a8-3fd8-4638-bb72-21f5c23ea7e8",
   "metadata": {},
   "source": [
    "## 5. Structured Data Extraction\n",
    "\n",
    "An important use case for function calling is extracting structured objects. LlamaIndex provides an intuitive interface for this through `structured_predict` - simply define the target Pydantic class (can be nested), and given a prompt, we extract out the desired object.\n",
    "\n",
    "**NOTE**: Since there's no native function calling support with Llama3 / Ollama, the structured extraction is performed by prompting the LLM + output parsing."
   ]
  },
  {
   "cell_type": "code",
   "execution_count": 33,
   "id": "56bf82da-d37f-489a-8315-a620c2be45c9",
   "metadata": {},
   "outputs": [],
   "source": [
    "from llama_index.core.prompts import PromptTemplate\n",
    "from pydantic import BaseModel\n",
    "\n",
    "\n",
    "class Restaurant(BaseModel):\n",
    "    \"\"\"A restaurant with name, city, and cuisine.\"\"\"\n",
    "\n",
    "    name: str\n",
    "    city: str\n",
    "    cuisine: str\n",
    "\n",
    "llm = llm_replicate\n",
    "\n",
    "\n",
    "prompt_tmpl = PromptTemplate(\n",
    "    \"Generate a restaurant in a given city {city_name}\"\n",
    ")"
   ]
  },
  {
   "cell_type": "code",
   "execution_count": 34,
   "id": "42cfee0d-6211-44c5-b3a8-1f153adb122e",
   "metadata": {},
   "outputs": [
    {
     "name": "stdout",
     "output_type": "stream",
     "text": [
      "name='Bayside Bistro' city='Miami' cuisine='Seafood'\n"
     ]
    }
   ],
   "source": [
    "restaurant_obj = llm.structured_predict(\n",
    "    Restaurant, prompt_tmpl, city_name=\"Miami\"\n",
    ")\n",
    "print(restaurant_obj)"
   ]
  },
  {
   "cell_type": "markdown",
   "id": "bd6d6334-4532-4c8d-bf12-fbbdb359f608",
   "metadata": {},
   "source": [
    "## 6. Adding Chat History to RAG (Chat Engine)\n",
    "\n",
    "In this section we create a stateful chatbot from a RAG pipeline, with our chat engine abstraction.\n",
    "\n",
    "Unlike a stateless query engine, the chat engine maintains conversation history (through a memory module like buffer memory). It performs retrieval given a condensed question, and feeds the condensed question + context + chat history into the final LLM prompt.\n",
    "\n",
    "Related resource: https://docs.llamaindex.ai/en/stable/examples/chat_engine/chat_engine_condense_plus_context/"
   ]
  },
  {
   "cell_type": "code",
   "execution_count": 35,
   "id": "2f5fd638-c1b2-41e6-8650-33d4ecb98c40",
   "metadata": {},
   "outputs": [],
   "source": [
    "from llama_index.core.memory import ChatMemoryBuffer\n",
    "from llama_index.core.chat_engine import CondensePlusContextChatEngine\n",
    "\n",
    "memory = ChatMemoryBuffer.from_defaults(token_limit=3900)\n",
    "\n",
    "chat_engine = CondensePlusContextChatEngine.from_defaults(\n",
    "    index.as_retriever(),\n",
    "    memory=memory,\n",
    "    llm=llm_replicate,\n",
    "    context_prompt=(\n",
    "        \"You are a chatbot, able to have normal interactions, as well as talk\"\n",
    "        \" about the Kendrick and Drake beef.\"\n",
    "        \"Here are the relevant documents for the context:\\n\"\n",
    "        \"{context_str}\"\n",
    "        \"\\nInstruction: Use the previous chat history, or the context above, to interact and help the user.\"\n",
    "    ),\n",
    "    verbose=True,\n",
    ")"
   ]
  },
  {
   "cell_type": "code",
   "execution_count": 36,
   "id": "ad1c014b-9c85-4db0-9234-9b41963bcef7",
   "metadata": {},
   "outputs": [
    {
     "name": "stdout",
     "output_type": "stream",
     "text": [
      "Condensed question: Tell me about the songs Drake released in the beef.\n",
      "\n",
      "\n",
      "So, in the midst of the Kendrick Lamar and Drake beef, Drake released a song called \"The Heart Part 6\". This track was a direct response to Kendrick's diss tracks, and it's clear that Drake wrote and recorded it within a 24-hour timeframe. \n",
      "\n",
      "From what I understand, \"The Heart Part 6\" is a reaction to everything that went down over those three days, including direct rebuttals to Kendrick's \"Not Like Us\". Drake even took a page out of Kendrick's book by incorporating an Aretha Franklin sample, which adds a soulful touch to the track.\n",
      "\n",
      "It's worth noting that this is Drake's second track in a row where he explicitly states that he'd rather be on the low, but still hints that things are about to get intense. Do you want to know more about the beef or the context surrounding these songs?\n"
     ]
    }
   ],
   "source": [
    "response = chat_engine.chat(\n",
    "    \"Tell me about the songs Drake released in the beef.\"\n",
    ")\n",
    "print(str(response))"
   ]
  },
  {
   "cell_type": "code",
   "execution_count": 37,
   "id": "95d9ea94-5234-4c24-94d0-c0df80b41c7b",
   "metadata": {},
   "outputs": [
    {
     "name": "stdout",
     "output_type": "stream",
     "text": [
      "Condensed question: \n",
      "\n",
      "What songs did Kendrick Lamar release in response to Drake during their beef?\n",
      "\n",
      "\n",
      "Kendrick Lamar! He definitely didn't hold back in this beef. One of the most notable tracks from his side is the verse on \"Like That\" from Future and Metro Boomin's album \"We Don't Trust You\". This verse is often referred to as a \"Control\" sequel, and it's clear that Kendrick is taking direct shots at Drake.\n",
      "\n",
      "But what really shook the rap world was Kendrick's response to Drake's \"The Heart Part 6\". He dropped a scathing diss track called \"Not Like Us\", which many consider one of the most brutal diss tracks in rap history. The way Kendrick dissects Drake's persona, career, and even his personal life is nothing short of ruthless.\n",
      "\n",
      "It's worth noting that Kendrick's approach was very calculated and strategic. He took his time to respond, and when he did, it was with a track that left no stone unturned. The lyrics are dense, and Kendrick's flow is as sharp as ever. Do you want to know more about the context behind these tracks or the impact they had on the rap world?\n"
     ]
    }
   ],
   "source": [
    "response = chat_engine.chat(\"What about Kendrick?\")\n",
    "print(str(response))"
   ]
  },
  {
   "cell_type": "markdown",
   "id": "39d5d92b-81e8-4aa6-b31d-3a87adf39cd5",
   "metadata": {},
   "source": [
    "## 7. Agents\n",
    "\n",
    "Here we build agents with Llama 3. We perform RAG over simple functions as well as the documents above."
   ]
  },
  {
   "cell_type": "markdown",
   "id": "0703d2f5-d126-45bc-812a-ba6d9d38225f",
   "metadata": {},
   "source": [
    "### Agents And Tools"
   ]
  },
  {
   "cell_type": "code",
   "execution_count": 38,
   "id": "df59fa8b-94f5-4e34-9f59-8a2307272f5e",
   "metadata": {},
   "outputs": [],
   "source": [
    "import json\n",
    "from typing import Sequence, List\n",
    "\n",
    "from llama_index.core.llms import ChatMessage\n",
    "from llama_index.core.tools import BaseTool, FunctionTool\n",
    "from llama_index.core.agent import ReActAgent\n",
    "\n",
    "import nest_asyncio\n",
    "\n",
    "nest_asyncio.apply()"
   ]
  },
  {
   "cell_type": "markdown",
   "id": "eab77195-bc48-47b5-b780-bb311ab8cd21",
   "metadata": {},
   "source": [
    "### Define Tools"
   ]
  },
  {
   "cell_type": "code",
   "execution_count": 39,
   "id": "b2661258-c92d-4969-8b00-5085c0c43ddc",
   "metadata": {},
   "outputs": [],
   "source": [
    "def multiply(a: int, b: int) -> int:\n",
    "    \"\"\"Multiple two integers and returns the result integer\"\"\"\n",
    "    return a * b\n",
    "\n",
    "\n",
    "def add(a: int, b: int) -> int:\n",
    "    \"\"\"Add two integers and returns the result integer\"\"\"\n",
    "    return a + b\n",
    "\n",
    "\n",
    "def subtract(a: int, b: int) -> int:\n",
    "    \"\"\"Subtract two integers and returns the result integer\"\"\"\n",
    "    return a - b\n",
    "\n",
    "\n",
    "def divide(a: int, b: int) -> int:\n",
    "    \"\"\"Divides two integers and returns the result integer\"\"\"\n",
    "    return a / b\n",
    "\n",
    "\n",
    "multiply_tool = FunctionTool.from_defaults(fn=multiply)\n",
    "add_tool = FunctionTool.from_defaults(fn=add)\n",
    "subtract_tool = FunctionTool.from_defaults(fn=subtract)\n",
    "divide_tool = FunctionTool.from_defaults(fn=divide)"
   ]
  },
  {
   "cell_type": "markdown",
   "id": "2a6b7eac-f064-4b6e-824a-5000f23b8b28",
   "metadata": {},
   "source": [
    "### ReAct Agent"
   ]
  },
  {
   "cell_type": "code",
   "execution_count": 40,
   "id": "ce6d7f65-1275-4fac-a132-7b1c6a151894",
   "metadata": {},
   "outputs": [],
   "source": [
    "agent = ReActAgent.from_tools(\n",
    "    [multiply_tool, add_tool, subtract_tool, divide_tool],\n",
    "    llm=llm_replicate,\n",
    "    verbose=True,\n",
    ")"
   ]
  },
  {
   "cell_type": "markdown",
   "id": "7b0904b9-c9a1-4aa7-9b94-6557197b43eb",
   "metadata": {},
   "source": [
    "### Querying"
   ]
  },
  {
   "cell_type": "code",
   "execution_count": 41,
   "id": "736ff7e8-b8ac-4eb0-b11b-5f60dbc32f58",
   "metadata": {},
   "outputs": [
    {
     "name": "stdout",
     "output_type": "stream",
     "text": [
      "> Running step 2eefb751-be04-47c5-ba57-bd1e82122b4c. Step input: What is (121 + 2) * 5?\n",
      "\u001b[1;3;38;5;200mThought: The current language of the user is: English. I need to use a tool to help me answer the question.\n",
      "Action: add\n",
      "Action Input: {'a': 121, 'b': 2}\n",
      "\u001b[0m\u001b[1;3;34mObservation: 123\n",
      "\u001b[0m> Running step 80185764-84a3-4275-ae13-8434fcbc98d7. Step input: None\n",
      "\u001b[1;3;38;5;200mThought: I have the result of the addition, now I need to multiply it by 5.\n",
      "Action: multiply\n",
      "Action Input: {'a': 123, 'b': 5}\n",
      "\u001b[0m\u001b[1;3;34mObservation: 615\n",
      "\u001b[0m> Running step b2389a62-1276-49dd-bdb5-f33c0cc5feeb. Step input: None\n",
      "\u001b[1;3;38;5;200mThought: I can answer without using any more tools. I'll use the user's language to answer\n",
      "Answer: The result is 615.\n",
      "\u001b[0mThe result is 615.\n"
     ]
    }
   ],
   "source": [
    "response = agent.chat(\"What is (121 + 2) * 5?\")\n",
    "print(str(response))"
   ]
  },
  {
   "cell_type": "markdown",
   "id": "389a4103-11f2-4aee-8c45-092abe17c4c4",
   "metadata": {},
   "source": [
    "### ReAct Agent With RAG QueryEngine Tools"
   ]
  },
  {
   "cell_type": "code",
   "execution_count": 42,
   "id": "f2caff98-7653-4517-9374-d145306b8a8a",
   "metadata": {},
   "outputs": [],
   "source": [
    "from llama_index.core import (\n",
    "    SimpleDirectoryReader,\n",
    "    VectorStoreIndex,\n",
    "    StorageContext,\n",
    "    load_index_from_storage,\n",
    ")\n",
    "\n",
    "from llama_index.core.tools import QueryEngineTool, ToolMetadata"
   ]
  },
  {
   "cell_type": "markdown",
   "id": "070edadd-bc94-463c-bd12-36f2515dcad1",
   "metadata": {},
   "source": [
    "### Create ReAct Agent using RAG QueryEngine Tools"
   ]
  },
  {
   "cell_type": "code",
   "execution_count": 43,
   "id": "35c9bef7-554f-41a1-8b09-ccb2bfc00b2d",
   "metadata": {},
   "outputs": [],
   "source": [
    "drake_tool = QueryEngineTool(\n",
    "    drake_index.as_query_engine(),\n",
    "    metadata=ToolMetadata(\n",
    "        name=\"drake_search\",\n",
    "        description=\"Useful for searching over Drake's life.\",\n",
    "    ),\n",
    ")\n",
    "\n",
    "kendrick_tool = QueryEngineTool(\n",
    "    kendrick_index.as_query_engine(),\n",
    "    metadata=ToolMetadata(\n",
    "        name=\"kendrick_search\",\n",
    "        description=\"Useful for searching over Kendrick's life.\",\n",
    "    ),\n",
    ")\n",
    "\n",
    "query_engine_tools = [drake_tool, kendrick_tool]"
   ]
  },
  {
   "cell_type": "code",
   "execution_count": 44,
   "id": "2db1c27d-2d0b-47db-8a7f-1f86e5bd6232",
   "metadata": {},
   "outputs": [],
   "source": [
    "agent = ReActAgent.from_tools(\n",
    "    query_engine_tools,  ## TODO: define query tools\n",
    "    llm=llm_replicate,\n",
    "    verbose=True,\n",
    ")"
   ]
  },
  {
   "cell_type": "markdown",
   "id": "933e26ad-002a-4f61-98e5-81adbcd64758",
   "metadata": {},
   "source": [
    "### Querying"
   ]
  },
  {
   "cell_type": "code",
   "execution_count": 45,
   "id": "18dd1db0-f469-4c9a-b107-80369e0f9c35",
   "metadata": {},
   "outputs": [
    {
     "name": "stdout",
     "output_type": "stream",
     "text": [
      "> Running step 6afa2961-726a-4f64-b10b-4a1bd897290c. Step input: Tell me about how Kendrick and Drake grew up\n",
      "\u001b[1;3;38;5;200mThought: The current language of the user is: English. I need to use tools to help me answer the question about how Kendrick and Drake grew up.\n",
      "Action: kendrick_search\n",
      "Action Input: {'input': \"Kendrick Lamar's childhood\"}\n",
      "\u001b[0m\u001b[1;3;34mObservation: \n",
      "\n",
      "Based on the provided context, here's what I found about Kendrick Lamar's childhood:\n",
      "\n",
      "Kendrick Lamar was born on June 17, 1987, in Compton, California. His parents, Kenneth \"Kenny\" Duckworth and Paula Oliver, were African Americans from the South Side of Chicago who relocated to Compton in 1984 due to his father's affiliation with the Gangster Disciples. Lamar was named after singer-songwriter Eddie Kendricks of the Temptations.\n",
      "\n",
      "As a child, Lamar lived in Section 8 housing, relied on welfare and food stamps, and experienced homelessness. He grew up with close affiliates of the Westside Pirus, but he is not a member of a particular gang. Despite the hardships, Lamar remembered having \"good memories\" of his childhood that sparked his interest in hip hop music, such as sneaking into his parents' house parties.\n",
      "\n",
      "When he was five years old, Lamar witnessed a murder for the first time while sitting outside of his apartment unit, as a teenage drug-dealer was killed in a drive-by shooting. This event had a profound impact on him, making him realize that he had to get used to the violence and hardships around him.\n",
      "\n",
      "Lamar was an only child until the age of seven and was described as a loner by his mother. He was introduced to police brutality after experiencing the first day of the 1992 Los Angeles riots. His parents nicknamed him \"Man-Man\" due to his precocious behavior, although he confessed it \"put a stigma on the idea of me reacting as a kid sometimes—I would hurt myself and they would expect me not to cry.\"\n",
      "\u001b[0m> Running step 2ef1c841-a0ca-408e-9521-b7e1d9dfbe8f. Step input: None\n",
      "\u001b[1;3;38;5;200mThought: I have information about Kendrick Lamar's childhood, but I still need to use a tool to help me answer the question about how Drake grew up.\n",
      "Action: drake_search\n",
      "Action Input: {'input': \"Drake's childhood\"}\n",
      "\u001b[0m\u001b[1;3;34mObservation: \n",
      "\n",
      "Based on the provided context, here's what I found about Drake's childhood:\n",
      "\n",
      "Drake was raised in two neighborhoods in Toronto. He lived on Weston Road in Toronto's working-class west end until grade six and attended Weston Memorial Junior Public School until grade four. He played minor hockey with the Weston Red Wings. He was a promising right winger but left hockey after a vicious cross-check to his neck during a game.\n",
      "\n",
      "At age 10, Drake appeared in a comedic sketch that aired during the 1997 NHL Awards. He moved to Forest Hill, one of the city's affluent neighborhoods, in 2000. He lived in the basement of a half-house with his mother on the first floor. He attended Forest Hill Collegiate Institute for high school and later attended Vaughan Road Academy in Toronto's multicultural Oakwood-Vaughan neighborhood.\n",
      "\n",
      "During his teenage years, Drake worked at a Toronto furniture factory owned by his maternal grandfather, Reuben Sher. He was bullied at school for his racial and religious background. He dropped out of school due to his burgeoning acting career and later received his high school diploma in October 2012.\n",
      "\u001b[0m> Running step 08a0a2a9-d0db-477e-aef4-47d67615a579. Step input: None\n",
      "\u001b[1;3;38;5;200mThought: I have information about both Kendrick Lamar's and Drake's childhood, so I can answer the question without using any more tools.\n",
      "Answer: Kendrick Lamar grew up in Compton, California, with his parents and experienced a tough childhood with exposure to violence and poverty. He was introduced to hip hop music at a young age and was nicknamed \"Man-Man\" by his parents. On the other hand, Drake was raised in Toronto, Canada, and had a more mixed experience. He lived in both working-class and affluent neighborhoods, attended different schools, and was bullied due to his racial and religious background. Despite the challenges, both artists were able to find their passion in music and pursue successful careers.\n",
      "\u001b[0mKendrick Lamar grew up in Compton, California, with his parents and experienced a tough childhood with exposure to violence and poverty. He was introduced to hip hop music at a young age and was nicknamed \"Man-Man\" by his parents. On the other hand, Drake was raised in Toronto, Canada, and had a more mixed experience. He lived in both working-class and affluent neighborhoods, attended different schools, and was bullied due to his racial and religious background. Despite the challenges, both artists were able to find their passion in music and pursue successful careers.\n"
     ]
    }
   ],
   "source": [
    "response = agent.chat(\"Tell me about how Kendrick and Drake grew up\")\n",
    "print(str(response))"
   ]
  },
  {
   "cell_type": "code",
   "execution_count": null,
   "id": "161b3a38-2ffd-4a42-b6d0-cece0002b66b",
   "metadata": {},
   "outputs": [],
   "source": []
  }
 ],
 "metadata": {
  "kernelspec": {
   "display_name": "venv_lab_4",
   "language": "python",
   "name": "python3"
  },
  "language_info": {
   "codemirror_mode": {
    "name": "ipython",
    "version": 3
   },
   "file_extension": ".py",
   "mimetype": "text/x-python",
   "name": "python",
   "nbconvert_exporter": "python",
   "pygments_lexer": "ipython3",
   "version": "3.12.7"
  }
 },
 "nbformat": 4,
 "nbformat_minor": 5
}
